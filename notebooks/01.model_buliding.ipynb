{
 "cells": [
  {
   "cell_type": "code",
   "execution_count": 85,
   "id": "ed0eff6b-b685-4d0d-b539-0d57d98d058d",
   "metadata": {},
   "outputs": [],
   "source": [
    "import numpy as np\n",
    "import pandas as pd\n",
    "import matplotlib.pyplot as plt"
   ]
  },
  {
   "cell_type": "code",
   "execution_count": 86,
   "id": "81af72b1-5593-4fd7-9409-768e2d5ffa1f",
   "metadata": {},
   "outputs": [],
   "source": [
    "data = pd.read_csv('../artifacts/singlish_reviews.csv', encoding='ISO-8859-1')"
   ]
  },
  {
   "cell_type": "code",
   "execution_count": 87,
   "id": "49c1a71d-1d73-434d-a819-07fdd525c70d",
   "metadata": {},
   "outputs": [
    {
     "data": {
      "text/html": [
       "<div>\n",
       "<style scoped>\n",
       "    .dataframe tbody tr th:only-of-type {\n",
       "        vertical-align: middle;\n",
       "    }\n",
       "\n",
       "    .dataframe tbody tr th {\n",
       "        vertical-align: top;\n",
       "    }\n",
       "\n",
       "    .dataframe thead th {\n",
       "        text-align: right;\n",
       "    }\n",
       "</style>\n",
       "<table border=\"1\" class=\"dataframe\">\n",
       "  <thead>\n",
       "    <tr style=\"text-align: right;\">\n",
       "      <th></th>\n",
       "      <th>Review (Singlish)</th>\n",
       "      <th>Sentiment</th>\n",
       "    </tr>\n",
       "  </thead>\n",
       "  <tbody>\n",
       "    <tr>\n",
       "      <th>1015</th>\n",
       "      <td>Hodta pack krl tibba..penumth 4to eka wagemaii..</td>\n",
       "      <td>1</td>\n",
       "    </tr>\n",
       "    <tr>\n",
       "      <th>1016</th>\n",
       "      <td>Supiri</td>\n",
       "      <td>1</td>\n",
       "    </tr>\n",
       "    <tr>\n",
       "      <th>1017</th>\n",
       "      <td>Supiri badu</td>\n",
       "      <td>1</td>\n",
       "    </tr>\n",
       "    <tr>\n",
       "      <th>1018</th>\n",
       "      <td>travel karana ayata maru</td>\n",
       "      <td>1</td>\n",
       "    </tr>\n",
       "    <tr>\n",
       "      <th>1019</th>\n",
       "      <td>kiyala thibba widihatama thiye</td>\n",
       "      <td>1</td>\n",
       "    </tr>\n",
       "  </tbody>\n",
       "</table>\n",
       "</div>"
      ],
      "text/plain": [
       "                                     Review (Singlish)  Sentiment\n",
       "1015  Hodta pack krl tibba..penumth 4to eka wagemaii..          1\n",
       "1016                                           Supiri           1\n",
       "1017                                       Supiri badu          1\n",
       "1018                          travel karana ayata maru          1\n",
       "1019                    kiyala thibba widihatama thiye          1"
      ]
     },
     "execution_count": 87,
     "metadata": {},
     "output_type": "execute_result"
    }
   ],
   "source": [
    "data.tail()"
   ]
  },
  {
   "cell_type": "markdown",
   "id": "ee15a27e-f504-47c2-a406-3a2150c8b65f",
   "metadata": {},
   "source": [
    "## Data Preprocessing"
   ]
  },
  {
   "cell_type": "code",
   "execution_count": 88,
   "id": "3eafa610-1e9a-40ca-ad83-f8ab3b952c0b",
   "metadata": {},
   "outputs": [
    {
     "data": {
      "text/plain": [
       "(1020, 2)"
      ]
     },
     "execution_count": 88,
     "metadata": {},
     "output_type": "execute_result"
    }
   ],
   "source": [
    "data.shape"
   ]
  },
  {
   "cell_type": "code",
   "execution_count": 89,
   "id": "f262e5cc-6281-4ad2-97f2-95d5c518da7e",
   "metadata": {},
   "outputs": [
    {
     "data": {
      "text/plain": [
       "np.int64(168)"
      ]
     },
     "execution_count": 89,
     "metadata": {},
     "output_type": "execute_result"
    }
   ],
   "source": [
    "data.duplicated() .sum()"
   ]
  },
  {
   "cell_type": "code",
   "execution_count": 90,
   "id": "294bd34c-7759-4363-9501-e32788472b7c",
   "metadata": {},
   "outputs": [],
   "source": [
    "data = data.drop_duplicates()"
   ]
  },
  {
   "cell_type": "code",
   "execution_count": 91,
   "id": "4ad18a16-0a7f-43a8-a334-fa52cd6ba382",
   "metadata": {},
   "outputs": [
    {
     "data": {
      "text/plain": [
       "np.int64(0)"
      ]
     },
     "execution_count": 91,
     "metadata": {},
     "output_type": "execute_result"
    }
   ],
   "source": [
    "data.duplicated() .sum()"
   ]
  },
  {
   "cell_type": "code",
   "execution_count": 92,
   "id": "5591017b-4616-4f15-a15a-93f9fb60c5bc",
   "metadata": {},
   "outputs": [
    {
     "name": "stdout",
     "output_type": "stream",
     "text": [
      "Original rows: 852, After removing duplicates: 852\n"
     ]
    }
   ],
   "source": [
    "print(f\"Original rows: {data.shape[0]}, After removing duplicates: {data.shape[0]}\")"
   ]
  },
  {
   "cell_type": "code",
   "execution_count": 93,
   "id": "072b3bef-3d1a-4d3d-a12f-9b79ba0162ad",
   "metadata": {},
   "outputs": [
    {
     "data": {
      "text/plain": [
       "Review (Singlish)    0\n",
       "Sentiment            0\n",
       "dtype: int64"
      ]
     },
     "execution_count": 93,
     "metadata": {},
     "output_type": "execute_result"
    }
   ],
   "source": [
    "data.isnull().sum()"
   ]
  },
  {
   "cell_type": "markdown",
   "id": "a1d4cd4e-d620-4f94-a505-de6db2856a5a",
   "metadata": {},
   "source": [
    "### Text Preprocessing"
   ]
  },
  {
   "cell_type": "code",
   "execution_count": 94,
   "id": "832d34c7-e84b-4582-a431-23c9a63a31be",
   "metadata": {},
   "outputs": [
    {
     "data": {
      "text/plain": [
       "0    Material eka bombai! Fit eka perfect! Ithin fu...\n",
       "1    Phone eka super shiok! Battery life eka long-l...\n",
       "2    Chilli crab damn shiok! Sedap gila! Confirm or...\n",
       "3    Delivery eka super fast! Order morning, sampai...\n",
       "4    Seller responsive sia. Reply damn fast and hel...\n",
       "Name: Review (Singlish), dtype: object"
      ]
     },
     "execution_count": 94,
     "metadata": {},
     "output_type": "execute_result"
    }
   ],
   "source": [
    "data[\"Review (Singlish)\"].head(5)"
   ]
  },
  {
   "cell_type": "code",
   "execution_count": 95,
   "id": "47f450e0-f567-42a4-9608-cad93a564629",
   "metadata": {},
   "outputs": [],
   "source": [
    "import re\n",
    "import string\n"
   ]
  },
  {
   "cell_type": "markdown",
   "id": "f7ffe821-268f-4703-a421-c0c9e0125a93",
   "metadata": {},
   "source": [
    "##### Convert Uppercase to Lowercase"
   ]
  },
  {
   "cell_type": "code",
   "execution_count": 96,
   "id": "bb717295-daa4-40b2-9b16-f18440b664c3",
   "metadata": {},
   "outputs": [],
   "source": [
    "data[\"Review (Singlish)\"] = data[\"Review (Singlish)\"].apply(lambda x: \" \".join(x.lower() for x in x.split()))"
   ]
  },
  {
   "cell_type": "code",
   "execution_count": 97,
   "id": "295e5266-cb5d-41d9-ad59-f2322ddc1a02",
   "metadata": {},
   "outputs": [
    {
     "data": {
      "text/plain": [
       "0    material eka bombai! fit eka perfect! ithin fu...\n",
       "1    phone eka super shiok! battery life eka long-l...\n",
       "2    chilli crab damn shiok! sedap gila! confirm or...\n",
       "3    delivery eka super fast! order morning, sampai...\n",
       "4    seller responsive sia. reply damn fast and hel...\n",
       "Name: Review (Singlish), dtype: object"
      ]
     },
     "execution_count": 97,
     "metadata": {},
     "output_type": "execute_result"
    }
   ],
   "source": [
    "data[\"Review (Singlish)\"].head(5)"
   ]
  },
  {
   "cell_type": "markdown",
   "id": "cf880664-f320-442d-9930-6470eb5bc371",
   "metadata": {},
   "source": [
    "#### remove links "
   ]
  },
  {
   "cell_type": "code",
   "execution_count": 98,
   "id": "33d3f529-d5da-454e-bd85-f49f142cc2e9",
   "metadata": {},
   "outputs": [],
   "source": [
    "data[\"Review (Singlish)\"] = data[\"Review (Singlish)\"].apply(lambda x: \" \".join(re.sub(r'^https?:\\/\\/.*[\\r\\n]*', '', x, flags=re.MULTILINE) for x in x.split()))"
   ]
  },
  {
   "cell_type": "code",
   "execution_count": 99,
   "id": "2e3e68d4-fbac-4cf5-978a-05ed037a9087",
   "metadata": {},
   "outputs": [
    {
     "data": {
      "text/plain": [
       "0    material eka bombai! fit eka perfect! ithin fu...\n",
       "1    phone eka super shiok! battery life eka long-l...\n",
       "2    chilli crab damn shiok! sedap gila! confirm or...\n",
       "3    delivery eka super fast! order morning, sampai...\n",
       "4    seller responsive sia. reply damn fast and hel...\n",
       "Name: Review (Singlish), dtype: object"
      ]
     },
     "execution_count": 99,
     "metadata": {},
     "output_type": "execute_result"
    }
   ],
   "source": [
    "data[\"Review (Singlish)\"].head(5)"
   ]
  },
  {
   "cell_type": "markdown",
   "id": "51f99e4a-f977-432f-bb36-a5890044a98a",
   "metadata": {},
   "source": [
    "#### remove punctuation"
   ]
  },
  {
   "cell_type": "code",
   "execution_count": 100,
   "id": "39d2f792-f02b-4d66-adf8-5e3e1aebd94d",
   "metadata": {},
   "outputs": [
    {
     "data": {
      "text/plain": [
       "'!\"#$%&\\'()*+,-./:;<=>?@[\\\\]^_`{|}~'"
      ]
     },
     "execution_count": 100,
     "metadata": {},
     "output_type": "execute_result"
    }
   ],
   "source": [
    "string.punctuation"
   ]
  },
  {
   "cell_type": "code",
   "execution_count": 101,
   "id": "b8fb6746-95f7-4bad-ad9d-449f571450ca",
   "metadata": {},
   "outputs": [],
   "source": [
    "def remove_punctuations(text):\n",
    "    for punctuation in string.punctuation:\n",
    "        text = text.replace(punctuation, '')\n",
    "        return text \n",
    "data[\"Review (Singlish)\"] = data[\"Review (Singlish)\"].apply(remove_punctuations)   "
   ]
  },
  {
   "cell_type": "code",
   "execution_count": 102,
   "id": "740c4229-da75-4671-8bba-d18cebb698ec",
   "metadata": {},
   "outputs": [
    {
     "data": {
      "text/plain": [
       "0    material eka bombai fit eka perfect ithin full...\n",
       "1    phone eka super shiok battery life eka long-la...\n",
       "2    chilli crab damn shiok sedap gila confirm orde...\n",
       "3    delivery eka super fast order morning, sampai ...\n",
       "4    seller responsive sia. reply damn fast and hel...\n",
       "Name: Review (Singlish), dtype: object"
      ]
     },
     "execution_count": 102,
     "metadata": {},
     "output_type": "execute_result"
    }
   ],
   "source": [
    "data[\"Review (Singlish)\"].head(5)"
   ]
  },
  {
   "cell_type": "markdown",
   "id": "e46725a4-1153-4823-a9e8-0cba14c49378",
   "metadata": {},
   "source": [
    "#### remove numbers "
   ]
  },
  {
   "cell_type": "code",
   "execution_count": 103,
   "id": "793eb283-4395-4162-b50f-2af8ac3a8e6d",
   "metadata": {},
   "outputs": [],
   "source": [
    "data[\"Review (Singlish)\"] = data[\"Review (Singlish)\"].str.replace(r'\\d+', '', regex=True)"
   ]
  },
  {
   "cell_type": "code",
   "execution_count": 104,
   "id": "266e8746-d816-4f84-94c5-567bff8d9176",
   "metadata": {},
   "outputs": [
    {
     "data": {
      "text/plain": [
       "0    material eka bombai fit eka perfect ithin full...\n",
       "1    phone eka super shiok battery life eka long-la...\n",
       "2    chilli crab damn shiok sedap gila confirm orde...\n",
       "3    delivery eka super fast order morning, sampai ...\n",
       "4    seller responsive sia. reply damn fast and hel...\n",
       "Name: Review (Singlish), dtype: object"
      ]
     },
     "execution_count": 104,
     "metadata": {},
     "output_type": "execute_result"
    }
   ],
   "source": [
    "data[\"Review (Singlish)\"].head(5)"
   ]
  },
  {
   "cell_type": "markdown",
   "id": "6476174c-960c-45e6-9c6e-ace6229f0317",
   "metadata": {},
   "source": [
    "#### remove stopwords"
   ]
  },
  {
   "cell_type": "code",
   "execution_count": 30,
   "id": "ba5301d5-9897-4b08-98ef-721983535557",
   "metadata": {},
   "outputs": [
    {
     "name": "stdout",
     "output_type": "stream",
     "text": [
      "Collecting nltk\n",
      "  Using cached nltk-3.9.1-py3-none-any.whl.metadata (2.9 kB)\n",
      "Collecting click (from nltk)\n",
      "  Using cached click-8.1.8-py3-none-any.whl.metadata (2.3 kB)\n",
      "Collecting joblib (from nltk)\n",
      "  Using cached joblib-1.4.2-py3-none-any.whl.metadata (5.4 kB)\n",
      "Collecting regex>=2021.8.3 (from nltk)\n",
      "  Using cached regex-2024.11.6-cp312-cp312-win_amd64.whl.metadata (41 kB)\n",
      "Collecting tqdm (from nltk)\n",
      "  Using cached tqdm-4.67.1-py3-none-any.whl.metadata (57 kB)\n",
      "Requirement already satisfied: colorama in e:\\4th year\\sentiment-analysis-in-singlish-text\\env\\lib\\site-packages (from click->nltk) (0.4.6)\n",
      "Using cached nltk-3.9.1-py3-none-any.whl (1.5 MB)\n",
      "Using cached regex-2024.11.6-cp312-cp312-win_amd64.whl (273 kB)\n",
      "Using cached click-8.1.8-py3-none-any.whl (98 kB)\n",
      "Using cached joblib-1.4.2-py3-none-any.whl (301 kB)\n",
      "Using cached tqdm-4.67.1-py3-none-any.whl (78 kB)\n",
      "Installing collected packages: tqdm, regex, joblib, click, nltk\n",
      "Successfully installed click-8.1.8 joblib-1.4.2 nltk-3.9.1 regex-2024.11.6 tqdm-4.67.1\n"
     ]
    }
   ],
   "source": [
    "!pip install nltk"
   ]
  },
  {
   "cell_type": "code",
   "execution_count": 105,
   "id": "6df1a4d3-b5f8-4c2b-883e-8ef20e7f087c",
   "metadata": {},
   "outputs": [],
   "source": [
    "import pandas as pd\n",
    "from nltk.corpus import stopwords\n",
    "import nltk"
   ]
  },
  {
   "cell_type": "code",
   "execution_count": 32,
   "id": "5c7ebac8-8ab2-4060-a493-2c9c18b8de2d",
   "metadata": {},
   "outputs": [
    {
     "name": "stderr",
     "output_type": "stream",
     "text": [
      "[nltk_data] Downloading package stopwords to ../static/model...\n",
      "[nltk_data]   Unzipping corpora\\stopwords.zip.\n"
     ]
    },
    {
     "data": {
      "text/plain": [
       "True"
      ]
     },
     "execution_count": 32,
     "metadata": {},
     "output_type": "execute_result"
    }
   ],
   "source": [
    "nltk.download('stopwords', download_dir='../static/model')"
   ]
  },
  {
   "cell_type": "code",
   "execution_count": 106,
   "id": "40feadd2-4382-44b4-924b-bdb0d5368775",
   "metadata": {},
   "outputs": [],
   "source": [
    "with open('../static/model/corpora/stopwords/english', 'r') as file:\n",
    "    sw = file.read().splitlines()"
   ]
  },
  {
   "cell_type": "code",
   "execution_count": 107,
   "id": "977c31cc-898b-4aae-902e-6e2062eb35ff",
   "metadata": {},
   "outputs": [],
   "source": [
    "data[\"Review (Singlish)\"] = data[\"Review (Singlish)\"].apply(lambda x: \" \".join(x for x in x.split() if x not in sw))"
   ]
  },
  {
   "cell_type": "code",
   "execution_count": 108,
   "id": "5e1c9e70-3558-4652-a962-78941ba52ccc",
   "metadata": {},
   "outputs": [
    {
     "data": {
      "text/plain": [
       "1009                                  ganata watinwa\n",
       "1015    hodta pack krl tibba..penumth eka wagemaii..\n",
       "1017                                     supiri badu\n",
       "1018                        travel karana ayata maru\n",
       "1019                  kiyala thibba widihatama thiye\n",
       "Name: Review (Singlish), dtype: object"
      ]
     },
     "execution_count": 108,
     "metadata": {},
     "output_type": "execute_result"
    }
   ],
   "source": [
    "data[\"Review (Singlish)\"].tail(5)"
   ]
  },
  {
   "cell_type": "markdown",
   "id": "5f268ca0-49f7-41af-b1ae-cbf951651d32",
   "metadata": {},
   "source": [
    "#### Stemming"
   ]
  },
  {
   "cell_type": "code",
   "execution_count": 109,
   "id": "c9c7213a-b76c-4d46-b6dd-72d007c7b6de",
   "metadata": {},
   "outputs": [],
   "source": [
    "from nltk.stem import PorterStemmer\n",
    "ps = PorterStemmer()"
   ]
  },
  {
   "cell_type": "code",
   "execution_count": 110,
   "id": "187ca3c7-887e-4e78-b4cf-591632bace54",
   "metadata": {},
   "outputs": [],
   "source": [
    "data[\"Review (Singlish)\"] = data[\"Review (Singlish)\"].apply(lambda x: \" \".join(ps.stem(x) for x in x.split()))"
   ]
  },
  {
   "cell_type": "code",
   "execution_count": 111,
   "id": "2af1944c-30dc-47a1-b1c5-2356e4c5b212",
   "metadata": {},
   "outputs": [
    {
     "data": {
      "text/plain": [
       "1009                                  ganata watinwa\n",
       "1015    hodta pack krl tibba..penumth eka wagemaii..\n",
       "1017                                     supiri badu\n",
       "1018                        travel karana ayata maru\n",
       "1019                   kiyala thibba widihatama thiy\n",
       "Name: Review (Singlish), dtype: object"
      ]
     },
     "execution_count": 111,
     "metadata": {},
     "output_type": "execute_result"
    }
   ],
   "source": [
    "data[\"Review (Singlish)\"].tail(5)"
   ]
  },
  {
   "cell_type": "code",
   "execution_count": 112,
   "id": "d145781a-344e-431f-8807-ad97ba0c6727",
   "metadata": {},
   "outputs": [
    {
     "data": {
      "text/plain": [
       "0    materi eka bombai fit eka perfect ithin full s...\n",
       "1    phone eka super shiok batteri life eka long-la...\n",
       "2    chilli crab damn shiok sedap gila confirm orde...\n",
       "3    deliveri eka super fast order morning, sampai ...\n",
       "4         seller respons sia. repli damn fast helpful.\n",
       "Name: Review (Singlish), dtype: object"
      ]
     },
     "execution_count": 112,
     "metadata": {},
     "output_type": "execute_result"
    }
   ],
   "source": [
    "data[\"Review (Singlish)\"].head(5)"
   ]
  },
  {
   "cell_type": "markdown",
   "id": "0a6c1be3-6f7f-40b4-9b20-6d41ae07e41e",
   "metadata": {},
   "source": [
    "### Building Vacabulary"
   ]
  },
  {
   "cell_type": "code",
   "execution_count": 113,
   "id": "ddac86d4-b2d3-4549-93e0-649dd244d95a",
   "metadata": {},
   "outputs": [],
   "source": [
    "from collections import Counter\n",
    "vocab = Counter()"
   ]
  },
  {
   "cell_type": "code",
   "execution_count": 114,
   "id": "669158eb-ea4c-49ca-b9c3-b6586c228f0e",
   "metadata": {},
   "outputs": [
    {
     "data": {
      "text/plain": [
       "Counter()"
      ]
     },
     "execution_count": 114,
     "metadata": {},
     "output_type": "execute_result"
    }
   ],
   "source": [
    "vocab"
   ]
  },
  {
   "cell_type": "code",
   "execution_count": 115,
   "id": "d32d1032-27bd-483d-a989-682c847b3825",
   "metadata": {},
   "outputs": [],
   "source": [
    "for sentence in data['Review (Singlish)']:\n",
    "    vocab.update(sentence.split())"
   ]
  },
  {
   "cell_type": "code",
   "execution_count": 116,
   "id": "9d46c327-fa89-4615-bbdc-0c6db73f6e8a",
   "metadata": {},
   "outputs": [
    {
     "data": {
      "text/plain": [
       "1366"
      ]
     },
     "execution_count": 116,
     "metadata": {},
     "output_type": "execute_result"
    }
   ],
   "source": [
    "len(vocab)"
   ]
  },
  {
   "cell_type": "code",
   "execution_count": 117,
   "id": "660d5e9c-ce04-4ea4-aefa-959488f63022",
   "metadata": {},
   "outputs": [
    {
     "data": {
      "text/plain": [
       "(852, 2)"
      ]
     },
     "execution_count": 117,
     "metadata": {},
     "output_type": "execute_result"
    }
   ],
   "source": [
    "data.shape"
   ]
  },
  {
   "cell_type": "code",
   "execution_count": 118,
   "id": "9e2d37eb-e31a-46d4-9123-2bda8198c214",
   "metadata": {},
   "outputs": [
    {
     "data": {
      "text/plain": [
       "1366"
      ]
     },
     "execution_count": 118,
     "metadata": {},
     "output_type": "execute_result"
    }
   ],
   "source": [
    "len(vocab)"
   ]
  },
  {
   "cell_type": "code",
   "execution_count": 119,
   "id": "7eaa67a1-2596-4f92-bcf0-19db2bdf7cfe",
   "metadata": {},
   "outputs": [
    {
     "data": {
      "text/plain": [
       "Counter({'eka': 133,\n",
       "         'meka': 108,\n",
       "         'ganna': 85,\n",
       "         'na': 79,\n",
       "         'ne': 75,\n",
       "         'epa': 67,\n",
       "         'supiri': 58,\n",
       "         'product': 57,\n",
       "         'ekak': 48,\n",
       "         'godak': 47,\n",
       "         'ganata': 40,\n",
       "         'hoda': 40,\n",
       "         'qualiti': 39,\n",
       "         'hodai': 39,\n",
       "         'nm': 36,\n",
       "         'wada': 28,\n",
       "         'maru': 27,\n",
       "         'baya': 25,\n",
       "         'nam': 24,\n",
       "         'recommend': 23,\n",
       "         'karanna': 21,\n",
       "         'meke': 20,\n",
       "         'weda': 19,\n",
       "         'wedak': 18,\n",
       "         'badu': 18,\n",
       "         'melo': 18,\n",
       "         'order': 16,\n",
       "         'hodata': 16,\n",
       "         'wela': 16,\n",
       "         'ekk': 16,\n",
       "         'deliveri': 15,\n",
       "         'servic': 15,\n",
       "         'rahak': 15,\n",
       "         'wadak': 15,\n",
       "         'puluwan': 14,\n",
       "         'nathuwa': 13,\n",
       "         'eke': 12,\n",
       "         'damag': 12,\n",
       "         'photo': 12,\n",
       "         'kisima': 12,\n",
       "         'supiriyak': 12,\n",
       "         'una': 11,\n",
       "         'watinawa': 11,\n",
       "         'mn': 11,\n",
       "         'size': 10,\n",
       "         'price': 10,\n",
       "         'set': 10,\n",
       "         'wenna': 10,\n",
       "         'item': 10,\n",
       "         'ek': 10,\n",
       "         'na.': 10,\n",
       "         'highli': 10,\n",
       "         'seller': 9,\n",
       "         'hariyata': 9,\n",
       "         'lassanai': 9,\n",
       "         'wage': 9,\n",
       "         'madi': 9,\n",
       "         'patta': 9,\n",
       "         'ewala': 9,\n",
       "         'padui': 9,\n",
       "         'kenek': 9,\n",
       "         'gnn': 9,\n",
       "         'epaa': 9,\n",
       "         'niyamai': 9,\n",
       "         'good': 9,\n",
       "         'use': 8,\n",
       "         'karanawa': 8,\n",
       "         'harima': 8,\n",
       "         'wena': 8,\n",
       "         'mewa': 8,\n",
       "         'hodatama': 8,\n",
       "         'samahara': 8,\n",
       "         'boru': 8,\n",
       "         'salli': 8,\n",
       "         'gann': 8,\n",
       "         'materi': 7,\n",
       "         'ekanam': 7,\n",
       "         'ekata': 7,\n",
       "         'thiyenawa': 7,\n",
       "         'ahu': 7,\n",
       "         'thiyenn': 7,\n",
       "         'aparad': 7,\n",
       "         'wala': 7,\n",
       "         'mata': 7,\n",
       "         'pack': 7,\n",
       "         'kiyapu': 7,\n",
       "         'thibba': 7,\n",
       "         'aulak': 7,\n",
       "         'damn': 6,\n",
       "         'slow': 6,\n",
       "         'one': 6,\n",
       "         'custom': 6,\n",
       "         'mara': 6,\n",
       "         'hithapu': 6,\n",
       "         'hondai': 6,\n",
       "         'hari': 6,\n",
       "         'wenawa': 6,\n",
       "         'newei': 6,\n",
       "         'kethai': 6,\n",
       "         'ewa': 6,\n",
       "         'labai': 6,\n",
       "         'habai': 6,\n",
       "         'naa': 6,\n",
       "         'thiyana': 6,\n",
       "         'ewann': 6,\n",
       "         'karann': 6,\n",
       "         'mama': 6,\n",
       "         'aye': 6,\n",
       "         'nathi': 6,\n",
       "         'thiyena': 6,\n",
       "         'kara': 6,\n",
       "         'krnne': 6,\n",
       "         'kiyala': 6,\n",
       "         'magula': 6,\n",
       "         'nethuwa': 6,\n",
       "         'ane': 6,\n",
       "         'apoo': 6,\n",
       "         'kisi': 6,\n",
       "         'gnna': 6,\n",
       "         'epa.': 6,\n",
       "         'gewana': 6,\n",
       "         'mudalata': 6,\n",
       "         'respons': 5,\n",
       "         'sound': 5,\n",
       "         'balaporoththu': 5,\n",
       "         'hithuwatath': 5,\n",
       "         'podi': 5,\n",
       "         'padu': 5,\n",
       "         'awe': 5,\n",
       "         'haiya': 5,\n",
       "         'minissu': 5,\n",
       "         'new': 5,\n",
       "         'thibb': 5,\n",
       "         'jarawak': 5,\n",
       "         'return': 5,\n",
       "         'wenn': 5,\n",
       "         'mekanan': 5,\n",
       "         'vadak': 5,\n",
       "         'e': 5,\n",
       "         'mek': 5,\n",
       "         'naha': 5,\n",
       "         'karana': 5,\n",
       "         'mu': 5,\n",
       "         'gaththa': 5,\n",
       "         'ekak.': 5,\n",
       "         'ekama': 5,\n",
       "         'ona': 5,\n",
       "         'welawatama': 4,\n",
       "         'dunna': 4,\n",
       "         'warranti': 4,\n",
       "         'watinawa.': 4,\n",
       "         'thibuna': 4,\n",
       "         'awa': 4,\n",
       "         'pata': 4,\n",
       "         'oder': 4,\n",
       "         'karapu': 4,\n",
       "         'enn': 4,\n",
       "         'mekanam': 4,\n",
       "         'marama': 4,\n",
       "         'baduwak': 4,\n",
       "         'apo': 4,\n",
       "         'kauruth': 4,\n",
       "         'kadila': 4,\n",
       "         'nemei': 4,\n",
       "         'yanawa': 4,\n",
       "         'button': 4,\n",
       "         'bass': 4,\n",
       "         'signal': 4,\n",
       "         'packag': 4,\n",
       "         'melorahak': 4,\n",
       "         'wdk': 4,\n",
       "         'ne.': 4,\n",
       "         'rawattanna': 4,\n",
       "         'penuma': 4,\n",
       "         'mun': 4,\n",
       "         'wima': 4,\n",
       "         'nah': 4,\n",
       "         'baduwa': 4,\n",
       "         'kiyann': 4,\n",
       "         'meeka': 4,\n",
       "         'attatama': 4,\n",
       "         'thamai': 4,\n",
       "         'sadaranai': 4,\n",
       "         'thank': 4,\n",
       "         'puluwn': 4,\n",
       "         'best': 4,\n",
       "         'krnna': 4,\n",
       "         'aththatama': 4,\n",
       "         'ganna.': 4,\n",
       "         'phone': 3,\n",
       "         'super': 3,\n",
       "         'fast': 3,\n",
       "         'sia.': 3,\n",
       "         'repli': 3,\n",
       "         'build': 3,\n",
       "         'ekak,': 3,\n",
       "         'practic': 3,\n",
       "         'athi': 3,\n",
       "         'kalin': 3,\n",
       "         'care': 3,\n",
       "         'eka.': 3,\n",
       "         'hariyatama': 3,\n",
       "         'disappoint': 3,\n",
       "         'aya': 3,\n",
       "         'ekedi': 3,\n",
       "         'dawa': 3,\n",
       "         'mekata': 3,\n",
       "         'color': 3,\n",
       "         'tharam': 3,\n",
       "         'okkoma': 3,\n",
       "         'descript': 3,\n",
       "         'dala': 3,\n",
       "         'fake': 3,\n",
       "         'poddak': 3,\n",
       "         'karanneth': 3,\n",
       "         'watinn': 3,\n",
       "         'wagema': 3,\n",
       "         'meken': 3,\n",
       "         'sadd': 3,\n",
       "         'redda': 3,\n",
       "         'cabl': 3,\n",
       "         'connect': 3,\n",
       "         'walata': 3,\n",
       "         'epa\"': 3,\n",
       "         'awl': 3,\n",
       "         'meka.': 3,\n",
       "         'neme': 3,\n",
       "         'denn': 3,\n",
       "         'denna': 3,\n",
       "         'gane': 3,\n",
       "         'na,': 3,\n",
       "         'case': 3,\n",
       "         'labila': 3,\n",
       "         'bdu': 3,\n",
       "         'wedi': 3,\n",
       "         'nisa': 3,\n",
       "         'ekath': 3,\n",
       "         'newey': 3,\n",
       "         'aiyoo': 3,\n",
       "         'deliv': 3,\n",
       "         'kiyana': 3,\n",
       "         'eewa': 3,\n",
       "         'vidiyatama': 3,\n",
       "         'result': 3,\n",
       "         'wasi': 3,\n",
       "         'anith': 3,\n",
       "         'cupiri': 3,\n",
       "         'band': 3,\n",
       "         'tiyanwa': 3,\n",
       "         'pattama': 3,\n",
       "         'widiyatama': 3,\n",
       "         'great': 3,\n",
       "         'awlk': 3,\n",
       "         'awulak': 3,\n",
       "         'krl': 3,\n",
       "         'ganin': 3,\n",
       "         'superb': 3,\n",
       "         'nathiwa': 3,\n",
       "         'hodama': 3,\n",
       "         'kranna': 3,\n",
       "         'labuna': 3,\n",
       "         'perfect': 2,\n",
       "         'ithin': 2,\n",
       "         'satisfi': 2,\n",
       "         'shiok': 2,\n",
       "         'cannot': 2,\n",
       "         'money': 2,\n",
       "         'week': 2,\n",
       "         'chat': 2,\n",
       "         'hondai,': 2,\n",
       "         'lassanai,': 2,\n",
       "         'una,': 2,\n",
       "         'time': 2,\n",
       "         'karanawa,': 2,\n",
       "         'wenawa.': 2,\n",
       "         'supiri,': 2,\n",
       "         'menu': 2,\n",
       "         'nadda': 2,\n",
       "         'idin': 2,\n",
       "         'issu': 2,\n",
       "         'aduwata': 2,\n",
       "         'amarui': 2,\n",
       "         'karaddi': 2,\n",
       "         'ikmanata': 2,\n",
       "         'hondata': 2,\n",
       "         'kedila': 2,\n",
       "         'hithuwata': 2,\n",
       "         'lokui': 2,\n",
       "         'unata': 2,\n",
       "         'brand': 2,\n",
       "         'keduna': 2,\n",
       "         'gewapu': 2,\n",
       "         'kotuwata': 2,\n",
       "         'wire': 2,\n",
       "         'mic': 2,\n",
       "         'damg': 2,\n",
       "         'wadiya': 2,\n",
       "         'sauththui': 2,\n",
       "         'add': 2,\n",
       "         'meyala': 2,\n",
       "         'tiyena': 2,\n",
       "         'boruwak': 2,\n",
       "         'henama': 2,\n",
       "         'chater': 2,\n",
       "         'kala': 2,\n",
       "         'seal': 2,\n",
       "         'wedakma': 2,\n",
       "         'origin': 2,\n",
       "         'k': 2,\n",
       "         'ekata.': 2,\n",
       "         'karan': 2,\n",
       "         'kohomada': 2,\n",
       "         'oni': 2,\n",
       "         'awilla': 2,\n",
       "         'bag': 2,\n",
       "         'jarawa': 2,\n",
       "         'kale': 2,\n",
       "         'hambun': 2,\n",
       "         'witharai': 2,\n",
       "         'press': 2,\n",
       "         'karannat': 2,\n",
       "         'ba': 2,\n",
       "         'boka': 2,\n",
       "         'adui': 2,\n",
       "         'betteri': 2,\n",
       "         'tiyenn': 2,\n",
       "         'charg': 2,\n",
       "         'ikmanta': 2,\n",
       "         'wenwa': 2,\n",
       "         'devic': 2,\n",
       "         'tynn': 2,\n",
       "         'penn': 2,\n",
       "         '\"meka': 2,\n",
       "         'eww': 2,\n",
       "         'ne,': 2,\n",
       "         'wda': 2,\n",
       "         'ewaa': 2,\n",
       "         'anthimay': 2,\n",
       "         'wadakata': 2,\n",
       "         'mona': 2,\n",
       "         'eddi': 2,\n",
       "         'wedk': 2,\n",
       "         'bala': 2,\n",
       "         'hadala': 2,\n",
       "         'wadi': 2,\n",
       "         'awul': 2,\n",
       "         'ekakwath': 2,\n",
       "         'ekta': 2,\n",
       "         'meeta': 2,\n",
       "         'athata': 2,\n",
       "         'labunama': 2,\n",
       "         'thiyenne.': 2,\n",
       "         'ekt': 2,\n",
       "         'kalayak': 2,\n",
       "         'modayo': 2,\n",
       "         'thawa': 2,\n",
       "         'anthimai': 2,\n",
       "         'enne.': 2,\n",
       "         'nati': 2,\n",
       "         'horu': 2,\n",
       "         'scam': 2,\n",
       "         'minissunwa': 2,\n",
       "         'inna': 2,\n",
       "         'nethi': 2,\n",
       "         'apooo': 2,\n",
       "         'dewal': 2,\n",
       "         'wge': 2,\n",
       "         'function': 2,\n",
       "         'unama': 2,\n",
       "         'poto': 2,\n",
       "         'sidu': 2,\n",
       "         'ptta': 2,\n",
       "         'math': 2,\n",
       "         'gaththa.': 2,\n",
       "         'meknm': 2,\n",
       "         'vena': 2,\n",
       "         'nishpadana': 2,\n",
       "         'nam.': 2,\n",
       "         'mala': 2,\n",
       "         'bad': 2,\n",
       "         'danna': 2,\n",
       "         'karayek': 2,\n",
       "         'mugen': 2,\n",
       "         'hdai': 2,\n",
       "         'appo': 2,\n",
       "         'wadakma': 2,\n",
       "         'watin': 2,\n",
       "         'awla': 2,\n",
       "         'hariyan': 2,\n",
       "         'koheda': 2,\n",
       "         'monada': 2,\n",
       "         'giya.': 2,\n",
       "         'mehema': 2,\n",
       "         'aragena': 2,\n",
       "         'loku': 2,\n",
       "         'mage': 2,\n",
       "         'qualitiyak': 2,\n",
       "         'enna': 2,\n",
       "         'kal': 2,\n",
       "         'ok': 2,\n",
       "         'hetiyata': 2,\n",
       "         'hituwata': 2,\n",
       "         'aul': 2,\n",
       "         'kma': 2,\n",
       "         'kiyanna': 2,\n",
       "         'clear': 2,\n",
       "         'supirima': 2,\n",
       "         'niyama': 2,\n",
       "         'ganatath': 2,\n",
       "         'hodha': 2,\n",
       "         'karala': 2,\n",
       "         'ayata': 2,\n",
       "         'daraz': 2,\n",
       "         'tibba': 2,\n",
       "         'thiy': 2,\n",
       "         'awlak': 2,\n",
       "         'top': 2,\n",
       "         'mekanm': 2,\n",
       "         'attama': 2,\n",
       "         'illapu': 2,\n",
       "         'watch': 2,\n",
       "         'supiri..': 2,\n",
       "         'hodai,': 2,\n",
       "         'tynwa..': 2,\n",
       "         'paharak': 2,\n",
       "         ',': 2,\n",
       "         'haa': 2,\n",
       "         'wow': 2,\n",
       "         '??': 2,\n",
       "         'gaanata': 2,\n",
       "         'recommended..': 2,\n",
       "         'kenekta': 2,\n",
       "         'mru': 2,\n",
       "         'ela': 2,\n",
       "         'nishpadanayak.': 2,\n",
       "         'deyak': 2,\n",
       "         'thawath': 2,\n",
       "         'ekth': 2,\n",
       "         'nan': 2,\n",
       "         'aurudu': 2,\n",
       "         'gammak': 2,\n",
       "         'watina': 2,\n",
       "         'hodta': 2,\n",
       "         'krla': 2,\n",
       "         'thiyanwa.': 2,\n",
       "         'shape': 2,\n",
       "         'ahaa': 2,\n",
       "         'man': 2,\n",
       "         'thama': 2,\n",
       "         'supiri.': 2,\n",
       "         'hondai.': 2,\n",
       "         'eeka': 2,\n",
       "         'dawasema': 2,\n",
       "         'thibuna.': 2,\n",
       "         'widihatama': 2,\n",
       "         'bombai': 1,\n",
       "         'fit': 1,\n",
       "         'full': 1,\n",
       "         'batteri': 1,\n",
       "         'life': 1,\n",
       "         'long-lasting.': 1,\n",
       "         'wah': 1,\n",
       "         'lau': 1,\n",
       "         'eh': 1,\n",
       "         'chilli': 1,\n",
       "         'crab': 1,\n",
       "         'sedap': 1,\n",
       "         'gila': 1,\n",
       "         'confirm': 1,\n",
       "         'next': 1,\n",
       "         'time.': 1,\n",
       "         'morning,': 1,\n",
       "         'sampai': 1,\n",
       "         'day': 1,\n",
       "         'evening.': 1,\n",
       "         'helpful.': 1,\n",
       "         'total': 1,\n",
       "         'wrong': 1,\n",
       "         'l': 1,\n",
       "         'receiv': 1,\n",
       "         'size.': 1,\n",
       "         'wear': 1,\n",
       "         'laggi': 1,\n",
       "         'camera': 1,\n",
       "         'blur': 1,\n",
       "         'blur.': 1,\n",
       "         'worth': 1,\n",
       "         'food': 1,\n",
       "         'bland': 1,\n",
       "         'lah.': 1,\n",
       "         'portion': 1,\n",
       "         'small.': 1,\n",
       "         'wast': 1,\n",
       "         'ago': 1,\n",
       "         'still': 1,\n",
       "         'arrive.': 1,\n",
       "         'lousi': 1,\n",
       "         'mia': 1,\n",
       "         'hours.': 1,\n",
       "         'recommend.': 1,\n",
       "         'tike': 1,\n",
       "         'gihin': 1,\n",
       "         'kitchen': 1,\n",
       "         'ekka': 1,\n",
       "         'staffla': 1,\n",
       "         'friendly.': 1,\n",
       "         'balapan': 1,\n",
       "         'tikak': 1,\n",
       "         'adu': 1,\n",
       "         'ehema': 1,\n",
       "         'ekenam': 1,\n",
       "         'slow,': 1,\n",
       "         'review': 1,\n",
       "         'prashnayak,': 1,\n",
       "         'hama': 1,\n",
       "         'tikama': 1,\n",
       "         'nois': 1,\n",
       "         'hoyenawa.': 1,\n",
       "         'repair': 1,\n",
       "         'maata': 1,\n",
       "         'nowei.': 1,\n",
       "         'call': 1,\n",
       "         'easi': 1,\n",
       "         'welawata': 1,\n",
       "         'confid': 1,\n",
       "         'deal': 1,\n",
       "         'simpl': 1,\n",
       "         'effici': 1,\n",
       "         'wadiyath': 1,\n",
       "         'claim': 1,\n",
       "         'readi': 1,\n",
       "         'baha': 1,\n",
       "         'nowei': 1,\n",
       "         'wiswasa': 1,\n",
       "         'prashnayak': 1,\n",
       "         'bess': 1,\n",
       "         'thiyanawa': 1,\n",
       "         'bayanathuwa': 1,\n",
       "         'marai': 1,\n",
       "         'safeti': 1,\n",
       "         'colour': 1,\n",
       "         'nathnam': 1,\n",
       "         'yaluwan': 1,\n",
       "         'orgin': 1,\n",
       "         'deken': 1,\n",
       "         'power': 1,\n",
       "         'hora': 1,\n",
       "         'mekama': 1,\n",
       "         'dekala': 1,\n",
       "         'patanam': 1,\n",
       "         'wathura': 1,\n",
       "         'yanneth': 1,\n",
       "         'bima': 1,\n",
       "         'wetunath': 1,\n",
       "         'kedenn': 1,\n",
       "         'podii': 1,\n",
       "         'kare': 1,\n",
       "         'multi': 1,\n",
       "         'kiynna': 1,\n",
       "         'wardak': 1,\n",
       "         'ekanm': 1,\n",
       "         'sellam': 1,\n",
       "         'vinadiyak': 1,\n",
       "         'giy': 1,\n",
       "         'nikanma': 1,\n",
       "         'kali': 1,\n",
       "         'halenawa': 1,\n",
       "         'ekadila': 1,\n",
       "         'anthima': 1,\n",
       "         'bata': 1,\n",
       "         'oyala': 1,\n",
       "         'mokatada': 1,\n",
       "         'dann': 1,\n",
       "         'magulak': 1,\n",
       "         'minissunta': 1,\n",
       "         'ai': 1,\n",
       "         'rawattann': 1,\n",
       "         'rewatenna': 1,\n",
       "         'wanchawak': 1,\n",
       "         'rawattanawa': 1,\n",
       "         'pal': 1,\n",
       "         'dileveri': 1,\n",
       "         'parakkui': 1,\n",
       "         'paket': 1,\n",
       "         'eken': 1,\n",
       "         'gaddima': 1,\n",
       "         'gannepa': 1,\n",
       "         'pu': 1,\n",
       "         'tibun': 1,\n",
       "         'meloma': 1,\n",
       "         'modayata': 1,\n",
       "         'anduwa': 1,\n",
       "         'giya': 1,\n",
       "         'late..': 1,\n",
       "         'respond': 1,\n",
       "         'wenneth': 1,\n",
       "         'diliveri': 1,\n",
       "         'parakku': 1,\n",
       "         'mt': 1,\n",
       "         'thiyann': 1,\n",
       "         'na.ganna': 1,\n",
       "         'ewanne.': 1,\n",
       "         'accept': 1,\n",
       "         'kawuruth': 1,\n",
       "         'jarawak..': 1,\n",
       "         'echchara': 1,\n",
       "         'widiya': 1,\n",
       "         'except': 1,\n",
       "         'qualitynam': 1,\n",
       "         'poddakwath': 1,\n",
       "         'wanchakarayo': 1,\n",
       "         'ekek': 1,\n",
       "         'penawata': 1,\n",
       "         'issaraha': 1,\n",
       "         'play': 1,\n",
       "         'gatta': 1,\n",
       "         'kethama': 1,\n",
       "         'yatin': 1,\n",
       "         'poddk': 1,\n",
       "         'irilath': 1,\n",
       "         'bahinwa': 1,\n",
       "         'tak': 1,\n",
       "         'gala': 1,\n",
       "         'tadai': 1,\n",
       "         'diga': 1,\n",
       "         'water': 1,\n",
       "         'proof': 1,\n",
       "         'watura': 1,\n",
       "         'barai': 1,\n",
       "         'dislay': 1,\n",
       "         'strap': 1,\n",
       "         'ga': 1,\n",
       "         'iwara': 1,\n",
       "         'speed': 1,\n",
       "         'adinawa': 1,\n",
       "         'karama': 1,\n",
       "         'agata': 1,\n",
       "         'kanna': 1,\n",
       "         'raha': 1,\n",
       "         'suwadak': 1,\n",
       "         'keli': 1,\n",
       "         'bageta': 1,\n",
       "         'tibb': 1,\n",
       "         'boda': 1,\n",
       "         'ahnna': 1,\n",
       "         'kan': 1,\n",
       "         'deka': 1,\n",
       "         'ridenawa': 1,\n",
       "         'hariayata': 1,\n",
       "         'wahanna': 1,\n",
       "         'wehenn': 1,\n",
       "         'qwata': 1,\n",
       "         'mewaa.': 1,\n",
       "         'hodak': 1,\n",
       "         'wen': 1,\n",
       "         'nathth': 1,\n",
       "         'magulanam': 1,\n",
       "         'deval': 1,\n",
       "         'mokuth': 1,\n",
       "         'itavada': 1,\n",
       "         'gannathuva': 1,\n",
       "         'guliyak': 1,\n",
       "         'kavanan': 1,\n",
       "         'n': 1,\n",
       "         'utta': 1,\n",
       "         'epa.kari': 1,\n",
       "         'ballo': 1,\n",
       "         'mun.boruwa': 1,\n",
       "         'maka': 1,\n",
       "         'fake,': 1,\n",
       "         'mge': 1,\n",
       "         'skin': 1,\n",
       "         'thibunt': 1,\n",
       "         'nsa': 1,\n",
       "         'ganan': 1,\n",
       "         'wedii': 1,\n",
       "         'meetawada': 1,\n",
       "         'thiyei': 1,\n",
       "         'kotuw': 1,\n",
       "         'thamay': 1,\n",
       "         'kawruth': 1,\n",
       "         'huththakda': 1,\n",
       "         '.ganna': 1,\n",
       "         'ekekwath': 1,\n",
       "         'gdrt': 1,\n",
       "         'awm': 1,\n",
       "         'yawi': 1,\n",
       "         'chatr': 1,\n",
       "         'smhr': 1,\n",
       "         'nh': 1,\n",
       "         'thyena': 1,\n",
       "         'ewnn': 1,\n",
       "         'mokak': 1,\n",
       "         'widiyakata': 1,\n",
       "         'athi,meka': 1,\n",
       "         'customersla': 1,\n",
       "         'wennathi': 1,\n",
       "         'naththan': 1,\n",
       "         'mechchara': 1,\n",
       "         'labeta': 1,\n",
       "         'hebai': 1,\n",
       "         'wacth': 1,\n",
       "         'ne.charg': 1,\n",
       "         'manussayo': 1,\n",
       "         'epa.adu': 1,\n",
       "         'ekawath': 1,\n",
       "         'meloo': 1,\n",
       "         'waren': 1,\n",
       "         'dennm': 1,\n",
       "         'rathu': 1,\n",
       "         'guliya': 1,\n",
       "         'wadinn': 1,\n",
       "         'na.kaha': 1,\n",
       "         'dipan': 1,\n",
       "         'ekkka': 1,\n",
       "         'bladdi': 1,\n",
       "         'kedenawa': 1,\n",
       "         'unuth': 1,\n",
       "         'dana': 1,\n",
       "         'unut': 1,\n",
       "         ',labila': 1,\n",
       "         'gana': 1,\n",
       "         'thamang': 1,\n",
       "         'labenakan': 1,\n",
       "         'shure': 1,\n",
       "         'baa...': 1,\n",
       "         'jaravk': 1,\n",
       "         'wedakata': 1,\n",
       "         'servis': 1,\n",
       "         'nema': 1,\n",
       "         'ohoma': 1,\n",
       "         'na.weda': 1,\n",
       "         'akak': 1,\n",
       "         'awala': 1,\n",
       "         'un': 1,\n",
       "         'thaman': 1,\n",
       "         'labenn': 1,\n",
       "         'puluwan..': 1,\n",
       "         'durwala': 1,\n",
       "         'sewawan': 1,\n",
       "         'ha': 1,\n",
       "         'chora': 1,\n",
       "         'wedk..': 1,\n",
       "         'deyk': 1,\n",
       "         'idakin.': 1,\n",
       "         'oii': 1,\n",
       "         'thyn': 1,\n",
       "         'overpr': 1,\n",
       "         'wtri': 1,\n",
       "         'ewt': 1,\n",
       "         'maha': 1,\n",
       "         'jarama': 1,\n",
       "         'keriya': 1,\n",
       "         'parcel': 1,\n",
       "         'ewaww': 1,\n",
       "         'ponna': 1,\n",
       "         'keriyek': 1,\n",
       "         'adala': 1,\n",
       "         'dineta': 1,\n",
       "         'ewann,': 1,\n",
       "         'pahu': 1,\n",
       "         'nane': 1,\n",
       "         'wedanam': 1,\n",
       "         'tagr': 1,\n",
       "         'nehebei': 1,\n",
       "         'koliyiyak': 1,\n",
       "         'baanda': 1,\n",
       "         'lebena': 1,\n",
       "         'wita': 1,\n",
       "         'ewata': 1,\n",
       "         'hani': 1,\n",
       "         'wi': 1,\n",
       "         'thibima': 1,\n",
       "         'gannepa.': 1,\n",
       "         'kisim': 1,\n",
       "         'therumk': 1,\n",
       "         'paththakt': 1,\n",
       "         'genn': 1,\n",
       "         'ep': 1,\n",
       "         'kunu': 1,\n",
       "         'godakk': 1,\n",
       "         'haiyak': 1,\n",
       "         'gavila': 1,\n",
       "         'vath': 1,\n",
       "         'pita': 1,\n",
       "         'witrai..': 1,\n",
       "         'ewapu': 1,\n",
       "         'wotch': 1,\n",
       "         'wikunumkaruwangen': 1,\n",
       "         'pithichara': 1,\n",
       "         'nomathi': 1,\n",
       "         'boruek': 1,\n",
       "         'evnn': 1,\n",
       "         'slli': 1,\n",
       "         'argen': 1,\n",
       "         'thanikara': 1,\n",
       "         'boruwak.': 1,\n",
       "         'mokkd': 1,\n",
       "         'mage.': 1,\n",
       "         'dekata': 1,\n",
       "         'kawrut': 1,\n",
       "         'mudal': 1,\n",
       "         'wiyadam': 1,\n",
       "         'borukarayo.': 1,\n",
       "         'pennala': 1,\n",
       "         'choraa': 1,\n",
       "         'rawatenna': 1,\n",
       "         'muwa': 1,\n",
       "         'hoyaganna': 1,\n",
       "         'kohenda..': 1,\n",
       "         'need': 1,\n",
       "         'contact': 1,\n",
       "         'details.': 1,\n",
       "         'amu': 1,\n",
       "         'ponnayek': 1,\n",
       "         'nh.ada': 1,\n",
       "         'hambune.hirila': 1,\n",
       "         'paaribogika': 1,\n",
       "         'sewamudnhi': 1,\n",
       "         'nosalakilimath': 1,\n",
       "         'baawaya': 1,\n",
       "         'maralayak.': 1,\n",
       "         'malama': 1,\n",
       "         'mekatanan': 1,\n",
       "         'vasa': 1,\n",
       "         'monava': 1,\n",
       "         'gahalada': 1,\n",
       "         'koheda,': 1,\n",
       "         'suvadath': 1,\n",
       "         'rasath': 1,\n",
       "         'hukapana': 1,\n",
       "         'pduwak': 1,\n",
       "         'ne,padui': 1,\n",
       "         'survic': 1,\n",
       "         'lebimata': 1,\n",
       "         'gath': 1,\n",
       "         'karanne.': 1,\n",
       "         'kathay': 1,\n",
       "         'nee': 1,\n",
       "         'adum': 1,\n",
       "         'podkwt.': 1,\n",
       "         'charger': 1,\n",
       "         'na..illuwa': 1,\n",
       "         'tiyenne..': 1,\n",
       "         'sthiyen': 1,\n",
       "         'kduna': 1,\n",
       "         'sathi': 1,\n",
       "         'dekai': 1,\n",
       "         'pavicchi': 1,\n",
       "         'vathura': 1,\n",
       "         'rubber': 1,\n",
       "         'sauttu': 1,\n",
       "         'aparade': 1,\n",
       "         'bleach': 1,\n",
       "         'wadi..': 1,\n",
       "         'gu': 1,\n",
       "         'disagre': 1,\n",
       "         'wedipura': 1,\n",
       "         'gasthu': 1,\n",
       "         'gewimata': 1,\n",
       "         'ganath': 1,\n",
       "         'wdi': 1,\n",
       "         'cake': 1,\n",
       "         'welth': 1,\n",
       "         'ekka,': 1,\n",
       "         'worst': 1,\n",
       "         'kulla': 1,\n",
       "         'kujeethai': 1,\n",
       "         'http': 1,\n",
       "         'hutt': 1,\n",
       "         'mungen': 1,\n",
       "         'kawurut': 1,\n",
       "         'muntanan': 1,\n",
       "         'gahana': 1,\n",
       "         'sakkkili': 1,\n",
       "         'thorana': 1,\n",
       "         'meka.m': 1,\n",
       "         'sawuththu': 1,\n",
       "         'hutto': 1,\n",
       "         'madi.': 1,\n",
       "         'epa.aparad': 1,\n",
       "         'salli.': 1,\n",
       "         'higa': 1,\n",
       "         'kewanm': 1,\n",
       "         'pago': 1,\n",
       "         'molo': 1,\n",
       "         'ganda': 1,\n",
       "         'kauruwth..melo': 1,\n",
       "         'rhak': 1,\n",
       "         'na..': 1,\n",
       "         'huthakda': 1,\n",
       "         'me..': 1,\n",
       "         'pennpu': 1,\n",
       "         'une': 1,\n",
       "         'naha.': 1,\n",
       "         'dan': 1,\n",
       "         'gththa': 1,\n",
       "         'ave': 1,\n",
       "         'thel': 1,\n",
       "         'bottl': 1,\n",
       "         'display': 1,\n",
       "         'krala': 1,\n",
       "         'thibbata.': 1,\n",
       "         'rawattanda': 1,\n",
       "         'dela..': 1,\n",
       "         'pake': 1,\n",
       "         'gewwa': 1,\n",
       "         'padui.': 1,\n",
       "         'ayanam': 1,\n",
       "         'thiyen': 1,\n",
       "         'melonrhk': 1,\n",
       "         'monawada': 1,\n",
       "         'pennann': 1,\n",
       "         'wade': 1,\n",
       "         'hriyatama': 1,\n",
       "         'eewa,,': 1,\n",
       "         'eeth': 1,\n",
       "         'pitakotuwen': 1,\n",
       "         'ekakda': 1,\n",
       "         'neweyn': 1,\n",
       "         'mitavada': 1,\n",
       "         'kiyalai': 1,\n",
       "         'hituve.': 1,\n",
       "         'eth': 1,\n",
       "         'ehm': 1,\n",
       "         'baala': 1,\n",
       "         'aththema': 1,\n",
       "         'kawruwat': 1,\n",
       "         'illuwe': 1,\n",
       "         'ekk,': 1,\n",
       "         'gannann': 1,\n",
       "         'disappointed.': 1,\n",
       "         'narakaiii': 1,\n",
       "         'chatar': 1,\n",
       "         'pennana': 1,\n",
       "         'ahuwenn': 1,\n",
       "         'horuda': 1,\n",
       "         'kawruwath': 1,\n",
       "         'muta': 1,\n",
       "         'hitapu': 1,\n",
       "         'nemein': 1,\n",
       "         'mee.': 1,\n",
       "         'meloka': 1,\n",
       "         'nm,': 1,\n",
       "         'pawichci': 1,\n",
       "         'beri': 1,\n",
       "         'weradilawath': 1,\n",
       "         'gnda': 1,\n",
       "         'epa..tharu': 1,\n",
       "         'kyl': 1,\n",
       "         'dand': 1,\n",
       "         'plwnnm': 1,\n",
       "         'danawa..': 1,\n",
       "         'eddima': 1,\n",
       "         'ammg': 1,\n",
       "         'huththa': 1,\n",
       "         'therumak': 1,\n",
       "         'rawattan': 1,\n",
       "         'karunakarala': 1,\n",
       "         'apahu': 1,\n",
       "         'nattan': 1,\n",
       "         'polici': 1,\n",
       "         'yanava': 1,\n",
       "         'cari': 1,\n",
       "         'samaj': 1,\n",
       "         'design': 1,\n",
       "         'asa': 1,\n",
       "         'paduwa': 1,\n",
       "         'adui.': 1,\n",
       "         'gnnep': 1,\n",
       "         'low': 1,\n",
       "         'quality.': 1,\n",
       "         'mewagen': 1,\n",
       "         'mukuth': 1,\n",
       "         'karannawath': 1,\n",
       "         'bari': 1,\n",
       "         'eewa.': 1,\n",
       "         'mamath': 1,\n",
       "         'eeeewwww': 1,\n",
       "         'mkakd': 1,\n",
       "         'meee..': 1,\n",
       "         'sallith': 1,\n",
       "         'baduth': 1,\n",
       "         'kawruwat.': 1,\n",
       "         'watinwa.thank': 1,\n",
       "         'you.': 1,\n",
       "         'normal': 1,\n",
       "         'product,': 1,\n",
       "         'it\\x92': 1,\n",
       "         'gammta': 1,\n",
       "         'thiynw': 1,\n",
       "         'eekanam': 1,\n",
       "         'supiriyk': 1,\n",
       "         'gmmk': 1,\n",
       "         'eewt': 1,\n",
       "         'haiyt': 1,\n",
       "         'thiyenw': 1,\n",
       "         'yata': 1,\n",
       "         'thibe': 1,\n",
       "         'kakma': 1,\n",
       "         ...})"
      ]
     },
     "execution_count": 119,
     "metadata": {},
     "output_type": "execute_result"
    }
   ],
   "source": [
    "vocab"
   ]
  },
  {
   "cell_type": "code",
   "execution_count": 120,
   "id": "5d0ac2c2-5bf0-4f0c-8299-8e13c3230fdf",
   "metadata": {},
   "outputs": [],
   "source": [
    "tokens = [key for key in vocab if vocab[key] > 1]"
   ]
  },
  {
   "cell_type": "code",
   "execution_count": 121,
   "id": "62816058-2597-489b-9a00-e69ee4cb5285",
   "metadata": {},
   "outputs": [
    {
     "data": {
      "text/plain": [
       "['materi',\n",
       " 'eka',\n",
       " 'perfect',\n",
       " 'ithin',\n",
       " 'satisfi',\n",
       " 'phone',\n",
       " 'super',\n",
       " 'shiok',\n",
       " 'damn',\n",
       " 'order',\n",
       " 'deliveri',\n",
       " 'fast',\n",
       " 'seller',\n",
       " 'respons',\n",
       " 'sia.',\n",
       " 'repli',\n",
       " 'size',\n",
       " 'cannot',\n",
       " 'qualiti',\n",
       " 'money',\n",
       " 'slow',\n",
       " 'one',\n",
       " 'week',\n",
       " 'custom',\n",
       " 'servic',\n",
       " 'chat',\n",
       " 'ekanam',\n",
       " 'hondai,',\n",
       " 'meka',\n",
       " 'mara',\n",
       " 'lassanai,',\n",
       " 'welawatama',\n",
       " 'una,',\n",
       " 'meke',\n",
       " 'build',\n",
       " 'supiri',\n",
       " 'ekak,',\n",
       " 'time',\n",
       " 'hariyata',\n",
       " 'dunna',\n",
       " 'eke',\n",
       " 'use',\n",
       " 'karanawa,',\n",
       " 'godak',\n",
       " 'practic',\n",
       " 'wenawa.',\n",
       " 'supiri,',\n",
       " 'warranti',\n",
       " 'watinawa.',\n",
       " 'menu',\n",
       " 'athi',\n",
       " 'product',\n",
       " 'maru',\n",
       " 'hithapu',\n",
       " 'nadda',\n",
       " 'ekak',\n",
       " 'karanna',\n",
       " 'sound',\n",
       " 'idin',\n",
       " 'issu',\n",
       " 'kalin',\n",
       " 'care',\n",
       " 'ekata',\n",
       " 'balaporoththu',\n",
       " 'eka.',\n",
       " 'lassanai',\n",
       " 'hondai',\n",
       " 'puluwan',\n",
       " 'price',\n",
       " 'hari',\n",
       " 'hodai',\n",
       " 'wenawa',\n",
       " 'set',\n",
       " 'hariyatama',\n",
       " 'thiyenawa',\n",
       " 'una',\n",
       " 'disappoint',\n",
       " 'ne',\n",
       " 'aduwata',\n",
       " 'aya',\n",
       " 'amarui',\n",
       " 'thibuna',\n",
       " 'karaddi',\n",
       " 'hodata',\n",
       " 'ganna',\n",
       " 'hithuwatath',\n",
       " 'wada',\n",
       " 'ikmanata',\n",
       " 'awa',\n",
       " 'hondata',\n",
       " 'weda',\n",
       " 'karanawa',\n",
       " 'wedak',\n",
       " 'na',\n",
       " 'pata',\n",
       " 'harima',\n",
       " 'oder',\n",
       " 'karapu',\n",
       " 'newei',\n",
       " 'wena',\n",
       " 'wela',\n",
       " 'ekedi',\n",
       " 'damag',\n",
       " 'kedila',\n",
       " 'kethai',\n",
       " 'hithuwata',\n",
       " 'ewa',\n",
       " 'nam',\n",
       " 'epa',\n",
       " 'podi',\n",
       " 'lokui',\n",
       " 'unata',\n",
       " 'brand',\n",
       " 'dawa',\n",
       " 'keduna',\n",
       " 'mekata',\n",
       " 'enn',\n",
       " 'mekanam',\n",
       " 'mewa',\n",
       " 'badu',\n",
       " 'ganata',\n",
       " 'watinawa',\n",
       " 'padu',\n",
       " 'gewapu',\n",
       " 'kotuwata',\n",
       " 'labai',\n",
       " 'marama',\n",
       " 'wire',\n",
       " 'color',\n",
       " 'awe',\n",
       " 'tharam',\n",
       " 'haiya',\n",
       " 'mic',\n",
       " 'hodatama',\n",
       " 'okkoma',\n",
       " 'samahara',\n",
       " 'damg',\n",
       " 'baduwak',\n",
       " 'wage',\n",
       " 'habai',\n",
       " 'naa',\n",
       " 'wadiya',\n",
       " 'sauththui',\n",
       " 'melo',\n",
       " 'apo',\n",
       " 'madi',\n",
       " 'add',\n",
       " 'thiyana',\n",
       " 'photo',\n",
       " 'ewann',\n",
       " 'boru',\n",
       " 'descript',\n",
       " 'dala',\n",
       " 'minissu',\n",
       " 'meyala',\n",
       " 'karann',\n",
       " 'tiyena',\n",
       " 'new',\n",
       " 'patta',\n",
       " 'boruwak',\n",
       " 'kauruth',\n",
       " 'ahu',\n",
       " 'wenna',\n",
       " 'kadila',\n",
       " 'thibb',\n",
       " 'henama',\n",
       " 'chater',\n",
       " 'kala',\n",
       " 'seal',\n",
       " 'rahak',\n",
       " 'wedakma',\n",
       " 'fake',\n",
       " 'origin',\n",
       " 'k',\n",
       " 'ekata.',\n",
       " 'jarawak',\n",
       " 'return',\n",
       " 'karan',\n",
       " 'kohomada',\n",
       " 'mama',\n",
       " 'oni',\n",
       " 'poddak',\n",
       " 'hoda',\n",
       " 'ewala',\n",
       " 'awilla',\n",
       " 'thiyenn',\n",
       " 'item',\n",
       " 'wadak',\n",
       " 'aye',\n",
       " 'karanneth',\n",
       " 'salli',\n",
       " 'aparad',\n",
       " 'padui',\n",
       " 'bag',\n",
       " 'kisima',\n",
       " 'nathi',\n",
       " 'wala',\n",
       " 'thiyena',\n",
       " 'nemei',\n",
       " 'kenek',\n",
       " 'jarawa',\n",
       " 'kale',\n",
       " 'watinn',\n",
       " 'mata',\n",
       " 'hambun',\n",
       " 'witharai',\n",
       " 'press',\n",
       " 'kara',\n",
       " 'karannat',\n",
       " 'ba',\n",
       " 'wagema',\n",
       " 'boka',\n",
       " 'krnne',\n",
       " 'meken',\n",
       " 'sadd',\n",
       " 'adui',\n",
       " 'redda',\n",
       " 'betteri',\n",
       " 'tiyenn',\n",
       " 'charg',\n",
       " 'yanawa',\n",
       " 'wenn',\n",
       " 'button',\n",
       " 'cabl',\n",
       " 'bass',\n",
       " 'ikmanta',\n",
       " 'wenwa',\n",
       " 'connect',\n",
       " 'signal',\n",
       " 'devic',\n",
       " 'tynn',\n",
       " 'packag',\n",
       " 'penn',\n",
       " 'walata',\n",
       " 'nm',\n",
       " 'kiyala',\n",
       " 'mekanan',\n",
       " 'vadak',\n",
       " 'magula',\n",
       " 'melorahak',\n",
       " 'epa\"',\n",
       " '\"meka',\n",
       " 'baya',\n",
       " 'nethuwa',\n",
       " 'eww',\n",
       " 'gnn',\n",
       " 'wdk',\n",
       " 'ne,',\n",
       " 'wda',\n",
       " 'awl',\n",
       " 'e',\n",
       " 'meka.',\n",
       " 'ewaa',\n",
       " 'pack',\n",
       " 'anthimay',\n",
       " 'wadakata',\n",
       " 'mona',\n",
       " 'epaa',\n",
       " 'eddi',\n",
       " 'mek',\n",
       " 'ane',\n",
       " 'naha',\n",
       " 'wedk',\n",
       " 'ek',\n",
       " 'neme',\n",
       " 'denn',\n",
       " 'bala',\n",
       " 'hadala',\n",
       " 'wadi',\n",
       " 'denna',\n",
       " 'awul',\n",
       " 'ekakwath',\n",
       " 'ne.',\n",
       " 'rawattanna',\n",
       " 'gane',\n",
       " 'karana',\n",
       " 'na,',\n",
       " 'ekta',\n",
       " 'meeta',\n",
       " 'athata',\n",
       " 'labunama',\n",
       " 'thiyenne.',\n",
       " 'na.',\n",
       " 'ekt',\n",
       " 'kalayak',\n",
       " 'gann',\n",
       " 'modayo',\n",
       " 'penuma',\n",
       " 'case',\n",
       " 'apoo',\n",
       " 'ekk',\n",
       " 'thawa',\n",
       " 'kisi',\n",
       " 'anthimai',\n",
       " 'enne.',\n",
       " 'nati',\n",
       " 'mun',\n",
       " 'horu',\n",
       " 'scam',\n",
       " 'mu',\n",
       " 'minissunwa',\n",
       " 'inna',\n",
       " 'gnna',\n",
       " 'nethi',\n",
       " 'wima',\n",
       " 'epa.',\n",
       " 'apooo',\n",
       " 'nah',\n",
       " 'dewal',\n",
       " 'wge',\n",
       " 'function',\n",
       " 'unama',\n",
       " 'labila',\n",
       " 'poto',\n",
       " 'sidu',\n",
       " 'ptta',\n",
       " 'bdu',\n",
       " 'math',\n",
       " 'gaththa.',\n",
       " 'meknm',\n",
       " 'vena',\n",
       " 'baduwa',\n",
       " 'nishpadana',\n",
       " 'wedi',\n",
       " 'nam.',\n",
       " 'mala',\n",
       " 'bad',\n",
       " 'danna',\n",
       " 'nisa',\n",
       " 'kiyann',\n",
       " 'karayek',\n",
       " 'mugen',\n",
       " 'hdai',\n",
       " 'appo',\n",
       " 'ekath',\n",
       " 'newey',\n",
       " 'aiyoo',\n",
       " 'wadakma',\n",
       " 'watin',\n",
       " 'awla',\n",
       " 'hariyan',\n",
       " 'gewana',\n",
       " 'gaththa',\n",
       " 'koheda',\n",
       " 'monada',\n",
       " 'kiyapu',\n",
       " 'mn',\n",
       " 'deliv',\n",
       " 'giya.',\n",
       " 'kiyana',\n",
       " 'eewa',\n",
       " 'mehema',\n",
       " 'aragena',\n",
       " 'loku',\n",
       " 'vidiyatama',\n",
       " 'meeka',\n",
       " 'mage',\n",
       " 'qualitiyak',\n",
       " 'result',\n",
       " 'attatama',\n",
       " 'highli',\n",
       " 'enna',\n",
       " 'kal',\n",
       " 'ok',\n",
       " 'nathuwa',\n",
       " 'wasi',\n",
       " 'thamai',\n",
       " 'anith',\n",
       " 'cupiri',\n",
       " 'thibba',\n",
       " 'aulak',\n",
       " 'hetiyata',\n",
       " 'band',\n",
       " 'tiyanwa',\n",
       " 'hituwata',\n",
       " 'aul',\n",
       " 'kma',\n",
       " 'mudalata',\n",
       " 'sadaranai',\n",
       " 'kiyanna',\n",
       " 'clear',\n",
       " 'niyamai',\n",
       " 'pattama',\n",
       " 'widiyatama',\n",
       " 'supirima',\n",
       " 'niyama',\n",
       " 'ganatath',\n",
       " 'hodha',\n",
       " 'ekak.',\n",
       " 'karala',\n",
       " 'ayata',\n",
       " 'thank',\n",
       " 'daraz',\n",
       " 'great',\n",
       " 'recommend',\n",
       " 'supiriyak',\n",
       " 'puluwn',\n",
       " 'ekama',\n",
       " 'best',\n",
       " 'tibba',\n",
       " 'awlk',\n",
       " 'thiy',\n",
       " 'awlak',\n",
       " 'top',\n",
       " 'ona',\n",
       " 'krnna',\n",
       " 'awulak',\n",
       " 'mekanm',\n",
       " 'attama',\n",
       " 'aththatama',\n",
       " 'krl',\n",
       " 'ganin',\n",
       " 'illapu',\n",
       " 'watch',\n",
       " 'supiri..',\n",
       " 'ganna.',\n",
       " 'hodai,',\n",
       " 'tynwa..',\n",
       " 'good',\n",
       " 'paharak',\n",
       " ',',\n",
       " 'haa',\n",
       " 'wow',\n",
       " 'superb',\n",
       " '??',\n",
       " 'gaanata',\n",
       " 'recommended..',\n",
       " 'kenekta',\n",
       " 'mru',\n",
       " 'nathiwa',\n",
       " 'ela',\n",
       " 'nishpadanayak.',\n",
       " 'deyak',\n",
       " 'thawath',\n",
       " 'ekth',\n",
       " 'nan',\n",
       " 'aurudu',\n",
       " 'hodama',\n",
       " 'gammak',\n",
       " 'watina',\n",
       " 'hodta',\n",
       " 'krla',\n",
       " 'kranna',\n",
       " 'thiyanwa.',\n",
       " 'shape',\n",
       " 'ahaa',\n",
       " 'man',\n",
       " 'thama',\n",
       " 'supiri.',\n",
       " 'hondai.',\n",
       " 'eeka',\n",
       " 'dawasema',\n",
       " 'labuna',\n",
       " 'thibuna.',\n",
       " 'widihatama']"
      ]
     },
     "execution_count": 121,
     "metadata": {},
     "output_type": "execute_result"
    }
   ],
   "source": [
    "tokens"
   ]
  },
  {
   "cell_type": "code",
   "execution_count": 122,
   "id": "37fbaabb-f5db-42de-a07b-ed395c053062",
   "metadata": {},
   "outputs": [
    {
     "data": {
      "text/plain": [
       "1366"
      ]
     },
     "execution_count": 122,
     "metadata": {},
     "output_type": "execute_result"
    }
   ],
   "source": [
    "len(vocab)"
   ]
  },
  {
   "cell_type": "code",
   "execution_count": 123,
   "id": "42344fcb-c44c-47a3-984e-bd7ee9f67dc2",
   "metadata": {},
   "outputs": [
    {
     "data": {
      "text/plain": [
       "455"
      ]
     },
     "execution_count": 123,
     "metadata": {},
     "output_type": "execute_result"
    }
   ],
   "source": [
    "len(tokens)"
   ]
  },
  {
   "cell_type": "code",
   "execution_count": 124,
   "id": "e204b122-629d-421e-935a-ed57ac781ef7",
   "metadata": {},
   "outputs": [],
   "source": [
    "def save_vocabulary(lines, filename):\n",
    "    data = '\\n'.join(lines)\n",
    "    file = open(filename, 'w', encoding=\"utf-8\")\n",
    "    file.write(data)\n",
    "    file.close()\n",
    "\n",
    "save_vocabulary(tokens, '../static/model/vocabulary.txt')"
   ]
  },
  {
   "cell_type": "markdown",
   "id": "8945487a-a607-43dc-8a9e-c7d71e043160",
   "metadata": {},
   "source": [
    "## Divide dataset"
   ]
  },
  {
   "cell_type": "code",
   "execution_count": 125,
   "id": "5870525d-171f-43d0-b9b5-f2cfe91980bb",
   "metadata": {},
   "outputs": [
    {
     "data": {
      "text/html": [
       "<div>\n",
       "<style scoped>\n",
       "    .dataframe tbody tr th:only-of-type {\n",
       "        vertical-align: middle;\n",
       "    }\n",
       "\n",
       "    .dataframe tbody tr th {\n",
       "        vertical-align: top;\n",
       "    }\n",
       "\n",
       "    .dataframe thead th {\n",
       "        text-align: right;\n",
       "    }\n",
       "</style>\n",
       "<table border=\"1\" class=\"dataframe\">\n",
       "  <thead>\n",
       "    <tr style=\"text-align: right;\">\n",
       "      <th></th>\n",
       "      <th>Review (Singlish)</th>\n",
       "      <th>Sentiment</th>\n",
       "    </tr>\n",
       "  </thead>\n",
       "  <tbody>\n",
       "    <tr>\n",
       "      <th>0</th>\n",
       "      <td>materi eka bombai fit eka perfect ithin full s...</td>\n",
       "      <td>1</td>\n",
       "    </tr>\n",
       "    <tr>\n",
       "      <th>1</th>\n",
       "      <td>phone eka super shiok batteri life eka long-la...</td>\n",
       "      <td>1</td>\n",
       "    </tr>\n",
       "    <tr>\n",
       "      <th>2</th>\n",
       "      <td>chilli crab damn shiok sedap gila confirm orde...</td>\n",
       "      <td>1</td>\n",
       "    </tr>\n",
       "    <tr>\n",
       "      <th>3</th>\n",
       "      <td>deliveri eka super fast order morning, sampai ...</td>\n",
       "      <td>1</td>\n",
       "    </tr>\n",
       "    <tr>\n",
       "      <th>4</th>\n",
       "      <td>seller respons sia. repli damn fast helpful.</td>\n",
       "      <td>1</td>\n",
       "    </tr>\n",
       "    <tr>\n",
       "      <th>...</th>\n",
       "      <td>...</td>\n",
       "      <td>...</td>\n",
       "    </tr>\n",
       "    <tr>\n",
       "      <th>1009</th>\n",
       "      <td>ganata watinwa</td>\n",
       "      <td>1</td>\n",
       "    </tr>\n",
       "    <tr>\n",
       "      <th>1015</th>\n",
       "      <td>hodta pack krl tibba..penumth eka wagemaii..</td>\n",
       "      <td>1</td>\n",
       "    </tr>\n",
       "    <tr>\n",
       "      <th>1017</th>\n",
       "      <td>supiri badu</td>\n",
       "      <td>1</td>\n",
       "    </tr>\n",
       "    <tr>\n",
       "      <th>1018</th>\n",
       "      <td>travel karana ayata maru</td>\n",
       "      <td>1</td>\n",
       "    </tr>\n",
       "    <tr>\n",
       "      <th>1019</th>\n",
       "      <td>kiyala thibba widihatama thiy</td>\n",
       "      <td>1</td>\n",
       "    </tr>\n",
       "  </tbody>\n",
       "</table>\n",
       "<p>852 rows × 2 columns</p>\n",
       "</div>"
      ],
      "text/plain": [
       "                                      Review (Singlish)  Sentiment\n",
       "0     materi eka bombai fit eka perfect ithin full s...          1\n",
       "1     phone eka super shiok batteri life eka long-la...          1\n",
       "2     chilli crab damn shiok sedap gila confirm orde...          1\n",
       "3     deliveri eka super fast order morning, sampai ...          1\n",
       "4          seller respons sia. repli damn fast helpful.          1\n",
       "...                                                 ...        ...\n",
       "1009                                     ganata watinwa          1\n",
       "1015       hodta pack krl tibba..penumth eka wagemaii..          1\n",
       "1017                                        supiri badu          1\n",
       "1018                           travel karana ayata maru          1\n",
       "1019                      kiyala thibba widihatama thiy          1\n",
       "\n",
       "[852 rows x 2 columns]"
      ]
     },
     "execution_count": 125,
     "metadata": {},
     "output_type": "execute_result"
    }
   ],
   "source": [
    "data"
   ]
  },
  {
   "cell_type": "code",
   "execution_count": 126,
   "id": "2a45b528-aee4-4a2b-8486-b048ec437cb9",
   "metadata": {},
   "outputs": [],
   "source": [
    "x = data['Review (Singlish)']\n",
    "y = data['Sentiment']"
   ]
  },
  {
   "cell_type": "code",
   "execution_count": 127,
   "id": "309eaf51-3a80-4e9b-b993-f6a16a9fa4f1",
   "metadata": {},
   "outputs": [
    {
     "data": {
      "text/plain": [
       "0       materi eka bombai fit eka perfect ithin full s...\n",
       "1       phone eka super shiok batteri life eka long-la...\n",
       "2       chilli crab damn shiok sedap gila confirm orde...\n",
       "3       deliveri eka super fast order morning, sampai ...\n",
       "4            seller respons sia. repli damn fast helpful.\n",
       "                              ...                        \n",
       "1009                                       ganata watinwa\n",
       "1015         hodta pack krl tibba..penumth eka wagemaii..\n",
       "1017                                          supiri badu\n",
       "1018                             travel karana ayata maru\n",
       "1019                        kiyala thibba widihatama thiy\n",
       "Name: Review (Singlish), Length: 852, dtype: object"
      ]
     },
     "execution_count": 127,
     "metadata": {},
     "output_type": "execute_result"
    }
   ],
   "source": [
    "x"
   ]
  },
  {
   "cell_type": "code",
   "execution_count": 128,
   "id": "2c50d6c7-4885-4abe-b70d-36c0a21b19fc",
   "metadata": {},
   "outputs": [
    {
     "data": {
      "text/plain": [
       "0       1\n",
       "1       1\n",
       "2       1\n",
       "3       1\n",
       "4       1\n",
       "       ..\n",
       "1009    1\n",
       "1015    1\n",
       "1017    1\n",
       "1018    1\n",
       "1019    1\n",
       "Name: Sentiment, Length: 852, dtype: int64"
      ]
     },
     "execution_count": 128,
     "metadata": {},
     "output_type": "execute_result"
    }
   ],
   "source": [
    "y"
   ]
  },
  {
   "cell_type": "code",
   "execution_count": 57,
   "id": "ce9fc6c9-7e43-4dc5-a34c-2893dfe720e6",
   "metadata": {},
   "outputs": [
    {
     "name": "stdout",
     "output_type": "stream",
     "text": [
      "Collecting scikit-learn\n",
      "  Downloading scikit_learn-1.6.1-cp312-cp312-win_amd64.whl.metadata (15 kB)\n",
      "Requirement already satisfied: numpy>=1.19.5 in e:\\4th year\\sentiment-analysis-in-singlish-text\\env\\lib\\site-packages (from scikit-learn) (2.2.3)\n",
      "Collecting scipy>=1.6.0 (from scikit-learn)\n",
      "  Downloading scipy-1.15.2-cp312-cp312-win_amd64.whl.metadata (60 kB)\n",
      "Requirement already satisfied: joblib>=1.2.0 in e:\\4th year\\sentiment-analysis-in-singlish-text\\env\\lib\\site-packages (from scikit-learn) (1.4.2)\n",
      "Collecting threadpoolctl>=3.1.0 (from scikit-learn)\n",
      "  Using cached threadpoolctl-3.5.0-py3-none-any.whl.metadata (13 kB)\n",
      "Downloading scikit_learn-1.6.1-cp312-cp312-win_amd64.whl (11.1 MB)\n",
      "   ---------------------------------------- 0.0/11.1 MB ? eta -:--:--\n",
      "    --------------------------------------- 0.3/11.1 MB ? eta -:--:--\n",
      "   --- ------------------------------------ 1.0/11.1 MB 3.3 MB/s eta 0:00:04\n",
      "   ------ --------------------------------- 1.8/11.1 MB 3.7 MB/s eta 0:00:03\n",
      "   ---------- ----------------------------- 2.9/11.1 MB 4.2 MB/s eta 0:00:02\n",
      "   -------------- ------------------------- 3.9/11.1 MB 4.3 MB/s eta 0:00:02\n",
      "   ----------------- ---------------------- 5.0/11.1 MB 4.6 MB/s eta 0:00:02\n",
      "   ---------------------- ----------------- 6.3/11.1 MB 4.7 MB/s eta 0:00:02\n",
      "   -------------------------- ------------- 7.3/11.1 MB 4.8 MB/s eta 0:00:01\n",
      "   -------------------------------- ------- 8.9/11.1 MB 5.1 MB/s eta 0:00:01\n",
      "   -------------------------------------- - 10.7/11.1 MB 5.4 MB/s eta 0:00:01\n",
      "   ---------------------------------------  11.0/11.1 MB 5.5 MB/s eta 0:00:01\n",
      "   ---------------------------------------- 11.1/11.1 MB 4.9 MB/s eta 0:00:00\n",
      "Downloading scipy-1.15.2-cp312-cp312-win_amd64.whl (40.9 MB)\n",
      "   ---------------------------------------- 0.0/40.9 MB ? eta -:--:--\n",
      "    --------------------------------------- 0.5/40.9 MB 5.7 MB/s eta 0:00:08\n",
      "   -- ------------------------------------- 2.1/40.9 MB 6.9 MB/s eta 0:00:06\n",
      "   -- ------------------------------------- 2.9/40.9 MB 6.0 MB/s eta 0:00:07\n",
      "   --- ------------------------------------ 3.1/40.9 MB 4.9 MB/s eta 0:00:08\n",
      "   --- ------------------------------------ 3.9/40.9 MB 4.1 MB/s eta 0:00:10\n",
      "   ----- ---------------------------------- 5.2/40.9 MB 4.3 MB/s eta 0:00:09\n",
      "   ------ --------------------------------- 6.6/40.9 MB 4.5 MB/s eta 0:00:08\n",
      "   ------- -------------------------------- 7.6/40.9 MB 4.6 MB/s eta 0:00:08\n",
      "   -------- ------------------------------- 9.2/40.9 MB 5.0 MB/s eta 0:00:07\n",
      "   ---------- ----------------------------- 11.0/40.9 MB 5.3 MB/s eta 0:00:06\n",
      "   ------------ --------------------------- 12.3/40.9 MB 5.4 MB/s eta 0:00:06\n",
      "   ------------- -------------------------- 13.6/40.9 MB 5.5 MB/s eta 0:00:05\n",
      "   -------------- ------------------------- 14.4/40.9 MB 5.4 MB/s eta 0:00:05\n",
      "   -------------- ------------------------- 14.9/40.9 MB 5.2 MB/s eta 0:00:06\n",
      "   --------------- ------------------------ 16.3/40.9 MB 5.2 MB/s eta 0:00:05\n",
      "   ---------------- ----------------------- 17.0/40.9 MB 5.1 MB/s eta 0:00:05\n",
      "   ----------------- ---------------------- 18.4/40.9 MB 5.1 MB/s eta 0:00:05\n",
      "   ------------------ --------------------- 19.4/40.9 MB 5.1 MB/s eta 0:00:05\n",
      "   ------------------- -------------------- 20.4/40.9 MB 5.1 MB/s eta 0:00:05\n",
      "   -------------------- ------------------- 21.2/40.9 MB 5.0 MB/s eta 0:00:04\n",
      "   --------------------- ------------------ 22.0/40.9 MB 4.9 MB/s eta 0:00:04\n",
      "   ---------------------- ----------------- 22.5/40.9 MB 4.8 MB/s eta 0:00:04\n",
      "   ---------------------- ----------------- 23.1/40.9 MB 4.7 MB/s eta 0:00:04\n",
      "   ----------------------- ---------------- 24.4/40.9 MB 4.7 MB/s eta 0:00:04\n",
      "   ------------------------- -------------- 26.0/40.9 MB 4.9 MB/s eta 0:00:04\n",
      "   -------------------------- ------------- 27.5/40.9 MB 4.9 MB/s eta 0:00:03\n",
      "   --------------------------- ------------ 28.6/40.9 MB 4.9 MB/s eta 0:00:03\n",
      "   ----------------------------- ---------- 30.1/40.9 MB 5.0 MB/s eta 0:00:03\n",
      "   ----------------------------- ---------- 30.7/40.9 MB 5.0 MB/s eta 0:00:03\n",
      "   ------------------------------ --------- 31.7/40.9 MB 4.9 MB/s eta 0:00:02\n",
      "   ------------------------------- -------- 32.5/40.9 MB 4.9 MB/s eta 0:00:02\n",
      "   -------------------------------- ------- 33.0/40.9 MB 4.9 MB/s eta 0:00:02\n",
      "   --------------------------------- ------ 34.1/40.9 MB 4.8 MB/s eta 0:00:02\n",
      "   ---------------------------------- ----- 35.1/40.9 MB 4.8 MB/s eta 0:00:02\n",
      "   ----------------------------------- ---- 36.2/40.9 MB 4.8 MB/s eta 0:00:01\n",
      "   ------------------------------------ --- 37.5/40.9 MB 4.9 MB/s eta 0:00:01\n",
      "   ------------------------------------- -- 38.3/40.9 MB 4.8 MB/s eta 0:00:01\n",
      "   -------------------------------------- - 39.6/40.9 MB 4.9 MB/s eta 0:00:01\n",
      "   ---------------------------------------  40.4/40.9 MB 4.8 MB/s eta 0:00:01\n",
      "   ---------------------------------------  40.9/40.9 MB 4.8 MB/s eta 0:00:01\n",
      "   ---------------------------------------  40.9/40.9 MB 4.8 MB/s eta 0:00:01\n",
      "   ---------------------------------------- 40.9/40.9 MB 4.6 MB/s eta 0:00:00\n",
      "Using cached threadpoolctl-3.5.0-py3-none-any.whl (18 kB)\n",
      "Installing collected packages: threadpoolctl, scipy, scikit-learn\n",
      "Successfully installed scikit-learn-1.6.1 scipy-1.15.2 threadpoolctl-3.5.0\n",
      "Note: you may need to restart the kernel to use updated packages.\n"
     ]
    }
   ],
   "source": [
    "pip install scikit-learn"
   ]
  },
  {
   "cell_type": "code",
   "execution_count": 129,
   "id": "4e3a4356-38ce-43d3-9d1e-d89091b5f5a4",
   "metadata": {},
   "outputs": [],
   "source": [
    "from sklearn.model_selection import train_test_split\n",
    "x_train, x_test, y_train, y_test = train_test_split(x, y, test_size=0.2)"
   ]
  },
  {
   "cell_type": "code",
   "execution_count": 130,
   "id": "f99c176e-8e29-4ea7-8da8-99389fa93764",
   "metadata": {},
   "outputs": [
    {
     "data": {
      "text/plain": [
       "292                                           wdk n\n",
       "889                                        eka sira\n",
       "217                              wadak na.ganna epa\n",
       "676                            dun mudalata padu ne\n",
       "270                                   agata hoda ne\n",
       "                           ...                     \n",
       "361    meka poto wala tharam koliyiyak na ganna epa\n",
       "97                          bima wetunath kedenn na\n",
       "687                                       maru bass\n",
       "486                   kawruwath ahu wenna epaa muta\n",
       "234             photo wala penawata wada godak podi\n",
       "Name: Review (Singlish), Length: 681, dtype: object"
      ]
     },
     "execution_count": 130,
     "metadata": {},
     "output_type": "execute_result"
    }
   ],
   "source": [
    "x_train"
   ]
  },
  {
   "cell_type": "code",
   "execution_count": 131,
   "id": "a498c8af-3d6b-46e6-9021-656c27bcef1a",
   "metadata": {},
   "outputs": [
    {
     "data": {
      "text/plain": [
       "(171,)"
      ]
     },
     "execution_count": 131,
     "metadata": {},
     "output_type": "execute_result"
    }
   ],
   "source": [
    "x_test.shape"
   ]
  },
  {
   "cell_type": "code",
   "execution_count": 132,
   "id": "f28878d7-d025-43c0-92c1-4b691bd199ac",
   "metadata": {},
   "outputs": [
    {
     "data": {
      "text/plain": [
       "(681,)"
      ]
     },
     "execution_count": 132,
     "metadata": {},
     "output_type": "execute_result"
    }
   ],
   "source": [
    "x_train.shape"
   ]
  },
  {
   "cell_type": "markdown",
   "id": "187e04cf-6246-42d9-8f12-8c1d53d7e63e",
   "metadata": {},
   "source": [
    "### Vectorization"
   ]
  },
  {
   "cell_type": "code",
   "execution_count": 133,
   "id": "b33c6e47-d550-43f1-9696-b27add7dc41f",
   "metadata": {},
   "outputs": [],
   "source": [
    "def vectorizer(ds, vocabulary):\n",
    "    vectorized_lst = []\n",
    "    \n",
    "    for sentence in ds:\n",
    "        sentence_lst = np.zeros(len(vocabulary))\n",
    "        \n",
    "        for i in range(len(vocabulary)):\n",
    "            if vocabulary[i] in sentence.split():\n",
    "                sentence_lst[i] = 1\n",
    "                \n",
    "        vectorized_lst.append(sentence_lst)\n",
    "        \n",
    "    vectorized_lst_new = np.asarray(vectorized_lst, dtype=np.float32)\n",
    "    \n",
    "    return vectorized_lst_new"
   ]
  },
  {
   "cell_type": "code",
   "execution_count": 134,
   "id": "1d415661-b68d-4307-8d24-3ae444b016e8",
   "metadata": {},
   "outputs": [],
   "source": [
    "vectorized_X_train = vectorizer(x_train, tokens)"
   ]
  },
  {
   "cell_type": "code",
   "execution_count": 135,
   "id": "e9ff3671-ead4-49ac-8a43-158ba70cd83f",
   "metadata": {},
   "outputs": [
    {
     "data": {
      "text/plain": [
       "array([[0., 0., 0., ..., 0., 0., 0.],\n",
       "       [0., 1., 0., ..., 0., 0., 0.],\n",
       "       [0., 0., 0., ..., 0., 0., 0.],\n",
       "       ...,\n",
       "       [0., 0., 0., ..., 0., 0., 0.],\n",
       "       [0., 0., 0., ..., 0., 0., 0.],\n",
       "       [0., 0., 0., ..., 0., 0., 0.]], shape=(681, 455), dtype=float32)"
      ]
     },
     "execution_count": 135,
     "metadata": {},
     "output_type": "execute_result"
    }
   ],
   "source": [
    "vectorized_X_train"
   ]
  },
  {
   "cell_type": "code",
   "execution_count": 136,
   "id": "8bfb02cc-fffd-420b-8989-23a2e9f93349",
   "metadata": {},
   "outputs": [],
   "source": [
    "vectorized_X_test = vectorizer(x_test, tokens)"
   ]
  },
  {
   "cell_type": "code",
   "execution_count": 137,
   "id": "8e7f7070-0dc8-4081-ab70-839b328c6aa8",
   "metadata": {},
   "outputs": [
    {
     "data": {
      "text/plain": [
       "Sentiment\n",
       "1    363\n",
       "0    318\n",
       "Name: count, dtype: int64"
      ]
     },
     "execution_count": 137,
     "metadata": {},
     "output_type": "execute_result"
    }
   ],
   "source": [
    "y_train.value_counts()"
   ]
  },
  {
   "cell_type": "code",
   "execution_count": 138,
   "id": "b998eca3-0861-4765-a978-4df653d3f5b4",
   "metadata": {},
   "outputs": [
    {
     "data": {
      "image/png": "[encoded data removed]",
      "text/plain": [
       "<Figure size 640x480 with 1 Axes>"
      ]
     },
     "metadata": {},
     "output_type": "display_data"
    }
   ],
   "source": [
    "plt.pie(np.array([y_train.value_counts()[0], y_train.value_counts()[1]]), labels=['Positive', 'Negative'])\n",
    "plt.show()"
   ]
  },
  {
   "cell_type": "markdown",
   "id": "e24897ad-bcc6-4146-ad5d-0db2ec191ba8",
   "metadata": {},
   "source": [
    "### Handle imbalanced dataset"
   ]
  },
  {
   "cell_type": "code",
   "execution_count": 69,
   "id": "8ed0210f-a1fc-49e2-b3cd-fa6bc3f95472",
   "metadata": {},
   "outputs": [
    {
     "name": "stdout",
     "output_type": "stream",
     "text": [
      "Collecting imbalanced-learn\n",
      "  Using cached imbalanced_learn-0.13.0-py3-none-any.whl.metadata (8.8 kB)\n",
      "Requirement already satisfied: numpy<3,>=1.24.3 in e:\\4th year\\sentiment-analysis-in-singlish-text\\env\\lib\\site-packages (from imbalanced-learn) (2.2.3)\n",
      "Requirement already satisfied: scipy<2,>=1.10.1 in e:\\4th year\\sentiment-analysis-in-singlish-text\\env\\lib\\site-packages (from imbalanced-learn) (1.15.2)\n",
      "Requirement already satisfied: scikit-learn<2,>=1.3.2 in e:\\4th year\\sentiment-analysis-in-singlish-text\\env\\lib\\site-packages (from imbalanced-learn) (1.6.1)\n",
      "Collecting sklearn-compat<1,>=0.1 (from imbalanced-learn)\n",
      "  Using cached sklearn_compat-0.1.3-py3-none-any.whl.metadata (18 kB)\n",
      "Requirement already satisfied: joblib<2,>=1.1.1 in e:\\4th year\\sentiment-analysis-in-singlish-text\\env\\lib\\site-packages (from imbalanced-learn) (1.4.2)\n",
      "Requirement already satisfied: threadpoolctl<4,>=2.0.0 in e:\\4th year\\sentiment-analysis-in-singlish-text\\env\\lib\\site-packages (from imbalanced-learn) (3.5.0)\n",
      "Using cached imbalanced_learn-0.13.0-py3-none-any.whl (238 kB)\n",
      "Using cached sklearn_compat-0.1.3-py3-none-any.whl (18 kB)\n",
      "Installing collected packages: sklearn-compat, imbalanced-learn\n",
      "Successfully installed imbalanced-learn-0.13.0 sklearn-compat-0.1.3\n"
     ]
    }
   ],
   "source": [
    "!pip install imbalanced-learn"
   ]
  },
  {
   "cell_type": "code",
   "execution_count": 139,
   "id": "52f88b7f-8fe5-49ff-a0ea-1550d0497658",
   "metadata": {},
   "outputs": [
    {
     "name": "stdout",
     "output_type": "stream",
     "text": [
      "(726, 455) (726,)\n"
     ]
    }
   ],
   "source": [
    "from imblearn.over_sampling import SMOTE\n",
    "smote = SMOTE()\n",
    "vectorized_X_train_smote, y_train_smote = smote.fit_resample(vectorized_X_train, y_train)\n",
    "print(vectorized_X_train_smote.shape, y_train_smote.shape)"
   ]
  },
  {
   "cell_type": "code",
   "execution_count": 140,
   "id": "15b0fce2-9a47-4106-800e-aa19d87271c5",
   "metadata": {},
   "outputs": [
    {
     "data": {
      "text/plain": [
       "Sentiment\n",
       "0    363\n",
       "1    363\n",
       "Name: count, dtype: int64"
      ]
     },
     "execution_count": 140,
     "metadata": {},
     "output_type": "execute_result"
    }
   ],
   "source": [
    "y_train_smote.value_counts()"
   ]
  },
  {
   "cell_type": "code",
   "execution_count": 141,
   "id": "0c5c618b-4deb-4526-a54d-61f6c03409d7",
   "metadata": {},
   "outputs": [
    {
     "data": {
      "image/png": "[encoded data removed]",
      "text/plain": [
       "<Figure size 640x480 with 1 Axes>"
      ]
     },
     "metadata": {},
     "output_type": "display_data"
    }
   ],
   "source": [
    "plt.pie(np.array([y_train_smote.value_counts()[0], y_train_smote.value_counts()[1]]), labels=['Positive', 'Negative'])\n",
    "plt.show()"
   ]
  },
  {
   "cell_type": "code",
   "execution_count": 142,
   "id": "f0b47c1a-2ff3-42d7-9fc2-32c4d8054a58",
   "metadata": {},
   "outputs": [
    {
     "data": {
      "text/plain": [
       "array([[0., 0., 0., ..., 0., 0., 0.],\n",
       "       [0., 1., 0., ..., 0., 0., 0.],\n",
       "       [0., 0., 0., ..., 0., 0., 0.],\n",
       "       ...,\n",
       "       [0., 0., 0., ..., 0., 0., 0.],\n",
       "       [0., 0., 0., ..., 0., 0., 0.],\n",
       "       [0., 1., 0., ..., 0., 0., 0.]], shape=(726, 455), dtype=float32)"
      ]
     },
     "execution_count": 142,
     "metadata": {},
     "output_type": "execute_result"
    }
   ],
   "source": [
    "vectorized_X_train_smote"
   ]
  },
  {
   "cell_type": "code",
   "execution_count": 143,
   "id": "8e3b0766-99f9-4f99-8503-cf33829b938d",
   "metadata": {},
   "outputs": [
    {
     "data": {
      "text/plain": [
       "0      0\n",
       "1      1\n",
       "2      0\n",
       "3      1\n",
       "4      0\n",
       "      ..\n",
       "721    0\n",
       "722    0\n",
       "723    0\n",
       "724    0\n",
       "725    0\n",
       "Name: Sentiment, Length: 726, dtype: int64"
      ]
     },
     "execution_count": 143,
     "metadata": {},
     "output_type": "execute_result"
    }
   ],
   "source": [
    "y_train_smote"
   ]
  },
  {
   "cell_type": "code",
   "execution_count": 144,
   "id": "37c78abc-9e6c-4d8e-a57d-08c99b7998d7",
   "metadata": {},
   "outputs": [
    {
     "data": {
      "text/plain": [
       "array([[0., 0., 0., ..., 0., 0., 0.],\n",
       "       [0., 0., 0., ..., 0., 0., 0.],\n",
       "       [0., 0., 0., ..., 0., 0., 0.],\n",
       "       ...,\n",
       "       [0., 0., 0., ..., 0., 0., 0.],\n",
       "       [0., 1., 0., ..., 0., 0., 0.],\n",
       "       [0., 0., 0., ..., 0., 0., 0.]], shape=(171, 455), dtype=float32)"
      ]
     },
     "execution_count": 144,
     "metadata": {},
     "output_type": "execute_result"
    }
   ],
   "source": [
    "vectorized_X_test"
   ]
  },
  {
   "cell_type": "code",
   "execution_count": 145,
   "id": "1a811ad9-0e18-4fae-85ce-8e3f38c113a6",
   "metadata": {},
   "outputs": [
    {
     "data": {
      "text/plain": [
       "298    0\n",
       "201    0\n",
       "940    1\n",
       "255    0\n",
       "77     0\n",
       "      ..\n",
       "456    0\n",
       "807    1\n",
       "419    0\n",
       "597    1\n",
       "673    1\n",
       "Name: Sentiment, Length: 171, dtype: int64"
      ]
     },
     "execution_count": 145,
     "metadata": {},
     "output_type": "execute_result"
    }
   ],
   "source": [
    "y_test"
   ]
  },
  {
   "cell_type": "markdown",
   "id": "d1482b26-d1c0-4637-ac6d-153d7a122e73",
   "metadata": {},
   "source": [
    "# Model Training and Evaluation"
   ]
  },
  {
   "cell_type": "code",
   "execution_count": 147,
   "id": "98193644-e3a2-47ba-8f2e-c1d41920c199",
   "metadata": {},
   "outputs": [],
   "source": [
    "from sklearn.linear_model import LogisticRegression\n",
    "from sklearn.naive_bayes import MultinomialNB\n",
    "from sklearn.tree import DecisionTreeClassifier\n",
    "from sklearn.ensemble import RandomForestClassifier\n",
    "from sklearn.svm import SVC"
   ]
  },
  {
   "cell_type": "code",
   "execution_count": 148,
   "id": "0ef03ed5-a145-45e3-87b3-b041194c8e2e",
   "metadata": {},
   "outputs": [],
   "source": [
    "from sklearn.metrics import accuracy_score, f1_score, precision_score, recall_score\n",
    "\n",
    "def training_scores(y_act, y_pred):\n",
    "    acc = round(accuracy_score(y_act, y_pred), 3)\n",
    "    pr = round(precision_score(y_act, y_pred), 3)\n",
    "    rec = round(recall_score(y_act, y_pred), 3)\n",
    "    f1 = round(f1_score(y_act, y_pred), 3)\n",
    "    print(f'Training Scores:\\n\\tAccuracy = {acc}\\n\\tPrecision = {pr}\\n\\tRecall = {rec}\\n\\tF1-Score = {f1}')\n",
    "    \n",
    "def validation_scores(y_act, y_pred):\n",
    "    acc = round(accuracy_score(y_act, y_pred), 3)\n",
    "    pr = round(precision_score(y_act, y_pred), 3)\n",
    "    rec = round(recall_score(y_act, y_pred), 3)\n",
    "    f1 = round(f1_score(y_act, y_pred), 3)\n",
    "    print(f'Testing Scores:\\n\\tAccuracy = {acc}\\n\\tPrecision = {pr}\\n\\tRecall = {rec}\\n\\tF1-Score = {f1}')"
   ]
  },
  {
   "cell_type": "markdown",
   "id": "e3f5c55f-b2d5-4cc0-8b9c-40bf0ec2cc66",
   "metadata": {},
   "source": [
    "### Logistic Regression"
   ]
  },
  {
   "cell_type": "code",
   "execution_count": 149,
   "id": "551d40cb-c206-4f44-aec1-501b657bb83b",
   "metadata": {},
   "outputs": [
    {
     "name": "stdout",
     "output_type": "stream",
     "text": [
      "Training Scores:\n",
      "\tAccuracy = 0.912\n",
      "\tPrecision = 0.886\n",
      "\tRecall = 0.945\n",
      "\tF1-Score = 0.915\n",
      "Testing Scores:\n",
      "\tAccuracy = 0.836\n",
      "\tPrecision = 0.836\n",
      "\tRecall = 0.792\n",
      "\tF1-Score = 0.813\n"
     ]
    }
   ],
   "source": [
    "lr = LogisticRegression()\n",
    "lr.fit(vectorized_X_train_smote, y_train_smote)\n",
    "\n",
    "y_train_pred = lr.predict(vectorized_X_train_smote)\n",
    "\n",
    "y_test_pred = lr.predict(vectorized_X_test)\n",
    "\n",
    "training_scores(y_train_smote, y_train_pred)\n",
    "\n",
    "validation_scores(y_test, y_test_pred)"
   ]
  },
  {
   "cell_type": "markdown",
   "id": "ad2b2962-b912-4a00-a54b-0a2f3569074a",
   "metadata": {},
   "source": [
    "### Naive Bayes"
   ]
  },
  {
   "cell_type": "code",
   "execution_count": 150,
   "id": "7d6b9952-5e6f-469b-ac3f-1188b1e545eb",
   "metadata": {},
   "outputs": [
    {
     "name": "stdout",
     "output_type": "stream",
     "text": [
      "Training Scores:\n",
      "\tAccuracy = 0.902\n",
      "\tPrecision = 0.901\n",
      "\tRecall = 0.904\n",
      "\tF1-Score = 0.902\n",
      "Testing Scores:\n",
      "\tAccuracy = 0.801\n",
      "\tPrecision = 0.821\n",
      "\tRecall = 0.714\n",
      "\tF1-Score = 0.764\n"
     ]
    }
   ],
   "source": [
    "mnb = MultinomialNB()\n",
    "mnb.fit(vectorized_X_train_smote, y_train_smote)\n",
    "\n",
    "y_train_pred = mnb.predict(vectorized_X_train_smote)\n",
    "\n",
    "y_test_pred = mnb.predict(vectorized_X_test)\n",
    "\n",
    "training_scores(y_train_smote, y_train_pred)\n",
    "\n",
    "validation_scores(y_test, y_test_pred)"
   ]
  },
  {
   "cell_type": "markdown",
   "id": "7786c344-63bc-4c2c-8a4b-17966ba11353",
   "metadata": {},
   "source": [
    "### Decision Tree"
   ]
  },
  {
   "cell_type": "code",
   "execution_count": 151,
   "id": "b8e5040a-2ab1-4d59-9f52-9d2a8904a83f",
   "metadata": {},
   "outputs": [
    {
     "name": "stdout",
     "output_type": "stream",
     "text": [
      "Training Scores:\n",
      "\tAccuracy = 0.97\n",
      "\tPrecision = 0.962\n",
      "\tRecall = 0.978\n",
      "\tF1-Score = 0.97\n",
      "Testing Scores:\n",
      "\tAccuracy = 0.743\n",
      "\tPrecision = 0.674\n",
      "\tRecall = 0.831\n",
      "\tF1-Score = 0.744\n"
     ]
    }
   ],
   "source": [
    "dt = DecisionTreeClassifier()\n",
    "\n",
    "dt.fit(vectorized_X_train_smote, y_train_smote)\n",
    "\n",
    "y_train_pred = dt.predict(vectorized_X_train_smote)\n",
    "\n",
    "y_test_pred = dt.predict(vectorized_X_test)\n",
    "\n",
    "training_scores(y_train_smote, y_train_pred)\n",
    "\n",
    "validation_scores(y_test, y_test_pred)"
   ]
  },
  {
   "cell_type": "markdown",
   "id": "bf5b0719-e383-4a58-8739-b47340692a01",
   "metadata": {},
   "source": [
    "### Random Forest"
   ]
  },
  {
   "cell_type": "code",
   "execution_count": 152,
   "id": "2d5c016a-39d4-4b5d-b0ee-17ac997a6fe3",
   "metadata": {},
   "outputs": [
    {
     "name": "stdout",
     "output_type": "stream",
     "text": [
      "Training Scores:\n",
      "\tAccuracy = 0.97\n",
      "\tPrecision = 0.955\n",
      "\tRecall = 0.986\n",
      "\tF1-Score = 0.97\n",
      "Testing Scores:\n",
      "\tAccuracy = 0.772\n",
      "\tPrecision = 0.707\n",
      "\tRecall = 0.844\n",
      "\tF1-Score = 0.769\n"
     ]
    }
   ],
   "source": [
    "rf = RandomForestClassifier()\n",
    "\n",
    "rf.fit(vectorized_X_train_smote, y_train_smote)\n",
    "\n",
    "y_train_pred = rf.predict(vectorized_X_train_smote)\n",
    "\n",
    "y_test_pred = rf.predict(vectorized_X_test)\n",
    "\n",
    "training_scores(y_train_smote, y_train_pred)\n",
    "\n",
    "validation_scores(y_test, y_test_pred)"
   ]
  },
  {
   "cell_type": "markdown",
   "id": "e0d014e4-e0b3-433b-b342-762d4762f8c8",
   "metadata": {},
   "source": [
    "### Support Vector Machine "
   ]
  },
  {
   "cell_type": "code",
   "execution_count": 153,
   "id": "11104b69-6418-425e-ac53-0f06086aa55d",
   "metadata": {},
   "outputs": [
    {
     "name": "stdout",
     "output_type": "stream",
     "text": [
      "Training Scores:\n",
      "\tAccuracy = 0.948\n",
      "\tPrecision = 0.945\n",
      "\tRecall = 0.95\n",
      "\tF1-Score = 0.948\n",
      "Testing Scores:\n",
      "\tAccuracy = 0.83\n",
      "\tPrecision = 0.843\n",
      "\tRecall = 0.766\n",
      "\tF1-Score = 0.803\n"
     ]
    }
   ],
   "source": [
    "svm = SVC()\n",
    "\n",
    "svm.fit(vectorized_X_train_smote, y_train_smote)\n",
    "\n",
    "y_train_pred = svm.predict(vectorized_X_train_smote)\n",
    "\n",
    "y_test_pred = svm.predict(vectorized_X_test)\n",
    "\n",
    "training_scores(y_train_smote, y_train_pred)\n",
    "\n",
    "validation_scores(y_test, y_test_pred)"
   ]
  },
  {
   "cell_type": "code",
   "execution_count": 84,
   "id": "d785c98c-b69a-42cb-924e-3df5597133cb",
   "metadata": {},
   "outputs": [],
   "source": [
    "import pickle\n",
    "\n",
    "with open('../static/model/model.pickle', 'wb') as file:\n",
    "    pickle.dump(mnb, file)\n"
   ]
  },
  {
   "cell_type": "code",
   "execution_count": null,
   "id": "8f1e5efe-e36e-4e51-96f2-3466e7183907",
   "metadata": {},
   "outputs": [],
   "source": []
  }
 ],
 "metadata": {
  "kernelspec": {
   "display_name": "Python 3 (ipykernel)",
   "language": "python",
   "name": "python3"
  },
  "language_info": {
   "codemirror_mode": {
    "name": "ipython",
    "version": 3
   },
   "file_extension": ".py",
   "mimetype": "text/x-python",
   "name": "python",
   "nbconvert_exporter": "python",
   "pygments_lexer": "ipython3",
   "version": "3.12.3"
  }
 },
 "nbformat": 4,
 "nbformat_minor": 5
}
